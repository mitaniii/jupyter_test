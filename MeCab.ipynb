{
 "cells": [
  {
   "attachments": {},
   "cell_type": "markdown",
   "metadata": {},
   "source": [
    "# MeCab\n",
    "```\n",
    "sudo apt install mecab\n",
    "sudo apt install libmecab-dev\n",
    "sudo apt install mecab-ipadic-utf8\n",
    "\n",
    "git clone https://github.com/neologd/mecab-ipadic-neologd.git\n",
    "cd mecab-ipadic-neologd\n",
    "sudo ./bin/install-mecab-ipadic-neologd\n",
    "pip install mecab-python\n",
    "\n",
    "\n",
    "```"
   ]
  },
  {
   "cell_type": "code",
   "execution_count": 1,
   "metadata": {},
   "outputs": [
    {
     "name": "stdout",
     "output_type": "stream",
     "text": [
      "すもも\t名詞,一般,*,*,*,*,すもも,スモモ,スモモ\n",
      "も\t助詞,係助詞,*,*,*,*,も,モ,モ\n",
      "もも\t名詞,一般,*,*,*,*,もも,モモ,モモ\n",
      "も\t助詞,係助詞,*,*,*,*,も,モ,モ\n",
      "もも\t名詞,一般,*,*,*,*,もも,モモ,モモ\n",
      "の\t助詞,連体化,*,*,*,*,の,ノ,ノ\n",
      "うち\t名詞,非自立,副詞可能,*,*,*,うち,ウチ,ウチ\n",
      "EOS\n",
      "\n"
     ]
    }
   ],
   "source": [
    "import MeCab\n",
    "\n",
    "m = MeCab.Tagger(\"-r /etc/mecabrc\")\n",
    "print(m.parse(\"すもももももももものうち\"))\n"
   ]
  },
  {
   "cell_type": "code",
   "execution_count": 4,
   "metadata": {},
   "outputs": [
    {
     "name": "stdout",
     "output_type": "stream",
     "text": [
      "Google Pixel （ グーグル ピクセル ） は 、 Google が 設計 ・ 販売 し て いる スマート フォン 。 初代 Google Pixel は 2016 年 10 月 4 日 に 発表 さ れ 、 同月 10 月 20 日 に アメリカ合衆国 等 で 販売 さ れ た 。 \n",
      "\n"
     ]
    }
   ],
   "source": [
    "import MeCab\n",
    "import requests\n",
    "from bs4 import BeautifulSoup\n",
    "\n",
    "url = \"https://ja.wikipedia.org/wiki/Google_Pixel\"\n",
    "m = MeCab.Tagger(\"-r /etc/mecabrc -Owakati\" )\n",
    "\n",
    "response = requests.get(url)\n",
    "soup = BeautifulSoup(response.content, \"html.parser\")\n",
    "text = soup.find_all('p')[2].get_text()\n",
    "\n",
    "parse_text = m.parse(text)\n",
    "print(parse_text)"
   ]
  },
  {
   "cell_type": "code",
   "execution_count": 7,
   "metadata": {},
   "outputs": [
    {
     "name": "stdout",
     "output_type": "stream",
     "text": [
      "[('Pixel', 422), ('Google', 261), ('年', 151), ('月', 148), ('日', 146), ('a', 120), ('版', 107), ('-', 92), ('英語', 92), ('いる', 88)]\n"
     ]
    },
    {
     "data": {
      "text/plain": [
       "<AxesSubplot: xlabel='count'>"
      ]
     },
     "execution_count": 7,
     "metadata": {},
     "output_type": "execute_result"
    },
    {
     "data": {
      "image/png": "[encoded data removed]",
      "text/plain": [
       "<Figure size 400x400 with 1 Axes>"
      ]
     },
     "metadata": {},
     "output_type": "display_data"
    }
   ],
   "source": [
    "import MeCab\n",
    "import requests\n",
    "from bs4 import BeautifulSoup\n",
    "from collections import Counter\n",
    "import re #正規表現\n",
    "import matplotlib.pyplot as plt\n",
    "import seaborn as sns\n",
    "import japanize_matplotlib\n",
    "\n",
    "url = \"https://ja.wikipedia.org/wiki/Google_Pixel\"\n",
    "m = MeCab.Tagger(\"-r /etc/mecabrc -Ochasen\" )\n",
    "\n",
    "response = requests.get(url)\n",
    "soup = BeautifulSoup(response.content, \"html.parser\")\n",
    "# text = soup.find_all('p')[2].get_text()\n",
    "text = soup.find(\"div\", attrs={\"id\": \"mw-content-text\"}).get_text()\n",
    "\n",
    "# parse_text = m.parse(text)\n",
    "# print(parse_text)\n",
    "\n",
    "node = m.parseToNode(text)\n",
    "words = []\n",
    "while node:\n",
    "    hinshi = node.feature.split(',')[0] #品詞\n",
    "    if hinshi in ['名詞', '動詞', '形容詞']:\n",
    "        if not re.match(r\"^[あ-ん0-9().[\\]/]$\", node.surface):\n",
    "            words.append(node.surface)\n",
    "    node = node.next\n",
    "\n",
    "#単語数カウント\n",
    "c = Counter(words)\n",
    "print(c.most_common(10))\n",
    "\n",
    "#グラフ出力\n",
    "sns.set(context=\"notebook\", font=\"IPAexGothic\")\n",
    "fig = plt.subplots(figsize=(4, 4))\n",
    "sns.countplot(y=words, order=[i[0] for i in c.most_common(10)])\n"
   ]
  }
 ],
 "metadata": {
  "kernelspec": {
   "display_name": ".venv",
   "language": "python",
   "name": "python3"
  },
  "language_info": {
   "codemirror_mode": {
    "name": "ipython",
    "version": 3
   },
   "file_extension": ".py",
   "mimetype": "text/x-python",
   "name": "python",
   "nbconvert_exporter": "python",
   "pygments_lexer": "ipython3",
   "version": "3.11.1"
  },
  "orig_nbformat": 4,
  "vscode": {
   "interpreter": {
    "hash": "ff82a638d3cd0e919dd0937da27591e27aa4e682df7daf8be57ecd65a6e0e6dd"
   }
  }
 },
 "nbformat": 4,
 "nbformat_minor": 2
}
