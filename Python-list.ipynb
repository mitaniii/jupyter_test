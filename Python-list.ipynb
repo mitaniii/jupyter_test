{
 "cells": [
  {
   "attachments": {},
   "cell_type": "markdown",
   "metadata": {},
   "source": [
    "# Pythinのリスト型\n",
    "可変(mutable)"
   ]
  },
  {
   "cell_type": "code",
   "execution_count": 43,
   "metadata": {},
   "outputs": [
    {
     "name": "stdout",
     "output_type": "stream",
     "text": [
      "[10, 20, 30, 40, 50, 60, 70]\n"
     ]
    }
   ],
   "source": [
    "list = [10, 20, 30, 40, 50, 60, 70]\n",
    "print(list)"
   ]
  },
  {
   "cell_type": "code",
   "execution_count": 44,
   "metadata": {},
   "outputs": [
    {
     "name": "stdout",
     "output_type": "stream",
     "text": [
      "40\n",
      "70\n",
      "[20, 30]\n",
      "[20]\n"
     ]
    }
   ],
   "source": [
    "# 要素を取り出す\n",
    "print(list[3]) #前から\n",
    "print(list[-1]) #後ろから\n",
    "print(list[1:3]) #スライス\n",
    "print(list[1:2]) #スライスするとリストになる"
   ]
  },
  {
   "cell_type": "code",
   "execution_count": 45,
   "metadata": {},
   "outputs": [
    {
     "name": "stdout",
     "output_type": "stream",
     "text": [
      "[10, 20, 30, 100, 200, 300, 400]\n"
     ]
    }
   ],
   "source": [
    "# 要素を変更する\n",
    "list[3] =100\n",
    "list[4:7] = [200,300,400]\n",
    "print(list)"
   ]
  },
  {
   "cell_type": "code",
   "execution_count": 46,
   "metadata": {},
   "outputs": [
    {
     "name": "stdout",
     "output_type": "stream",
     "text": [
      "[10, 20, 30, 100, 200, 300, 400, 500]\n",
      "[10, 500, 20, 30, 100, 200, 300, 400, 500]\n"
     ]
    }
   ],
   "source": [
    "# 要素を追加する\n",
    "list.append(500) # 末尾に追加\n",
    "print(list)\n",
    "\n",
    "list.insert(1,500) # 任意の位置に追加 list.insert(インデックス,追加する数値)\n",
    "print(list)"
   ]
  },
  {
   "cell_type": "code",
   "execution_count": 47,
   "metadata": {},
   "outputs": [
    {
     "name": "stdout",
     "output_type": "stream",
     "text": [
      "[10, 500, 20, 100, 200, 300, 400, 500]\n",
      "[20, 100, 200, 300, 400, 500]\n",
      "[20, 100, 200, 300, 500]\n"
     ]
    }
   ],
   "source": [
    "# 要素を削除する\n",
    "del list[3] # 任意の位置を削除\n",
    "print(list)\n",
    "\n",
    "del list[0:2] # スライスで削除\n",
    "print(list)\n",
    "\n",
    "list[-2:-1] = [] # 空リストを代入すると削除される\n",
    "print(list)"
   ]
  },
  {
   "cell_type": "code",
   "execution_count": 48,
   "metadata": {},
   "outputs": [
    {
     "name": "stdout",
     "output_type": "stream",
     "text": [
      "5\n"
     ]
    }
   ],
   "source": [
    "# 要素数\n",
    "print(len(list)) # 要素数を表示する"
   ]
  },
  {
   "attachments": {},
   "cell_type": "markdown",
   "metadata": {},
   "source": [
    "### リスト型についてもう少し"
   ]
  },
  {
   "cell_type": "code",
   "execution_count": 13,
   "metadata": {},
   "outputs": [
    {
     "name": "stdout",
     "output_type": "stream",
     "text": [
      "[10, 20, 30, 40, 50, 60, 100]\n",
      "[10, 20, 30, 40, 50, 60, 100, 1000, 2000]\n",
      "[10, 20, 20, 30, 40, 50, 60, 100, 1000, 2000]\n",
      "[10, 20, 30, 40, 50, 60, 100, 1000, 2000]\n",
      "30\n",
      "[10, 20, 40, 50, 60, 100, 1000, 2000]\n",
      "[]\n"
     ]
    }
   ],
   "source": [
    "l = [10,20,30,40,50,60]\n",
    "l.append(100)\n",
    "# l[len(l):] = [100]　#一緒の意味\n",
    "print(l)\n",
    "\n",
    "l.extend((1000,2000)) #appendやと複数引数はエラーになる\n",
    "print(l)\n",
    "\n",
    "l.insert(1, 20) #(入れたい場所,値)\n",
    "print(l)\n",
    "\n",
    "l.remove(20) #バリューで指定\n",
    "print(l)\n",
    "\n",
    "print(l.pop(2)) #引数を指定して削除できる、戻り値がある\n",
    "print(l)\n",
    "\n",
    "l.clear() #リストの中の全ての要素を削除\n",
    "print(l)"
   ]
  },
  {
   "cell_type": "code",
   "execution_count": 23,
   "metadata": {},
   "outputs": [
    {
     "name": "stdout",
     "output_type": "stream",
     "text": [
      "2\n",
      "2\n",
      "['x', 'Z', 'Z', 'Y', 'Y', 'X', 'X']\n",
      "['X', 'X', 'Y', 'Y', 'Z', 'Z', 'x']\n",
      "['x', 'Y', 'Z', 'Z', 'Y', 'X', 'X']\n"
     ]
    }
   ],
   "source": [
    "l = [\"x\",\"Y\",\"Z\",\"Z\",\"Y\",\"X\",\"X\"]\n",
    "copy_l = l.copy()\n",
    "\n",
    "print(l.index(\"Z\", 0, 3)) #値が何番目にあるかを戻り値として返す\n",
    "#位置指定、範囲指定もできる\n",
    "\n",
    "print(l.count(\"Z\")) #リストの中の指定した値の数を戻り値として返す\n",
    "\n",
    "l.sort(reverse=True) #キーワード引数でソート順を指定できる\n",
    "print(l)\n",
    "l.reverse()\n",
    "print(l)\n",
    "\n",
    "print(copy_l)"
   ]
  },
  {
   "cell_type": "code",
   "execution_count": 26,
   "metadata": {},
   "outputs": [
    {
     "name": "stdout",
     "output_type": "stream",
     "text": [
      "[10, 'X', 2.5, True]\n"
     ]
    }
   ],
   "source": [
    "l = [10, \"X\", 2.5, True]\n",
    "print(l)\n",
    "# l.sort() データ型が異なるリストなのでソートはできない\n",
    "# print(l)"
   ]
  },
  {
   "attachments": {},
   "cell_type": "markdown",
   "metadata": {},
   "source": [
    "### スタックとキュー"
   ]
  },
  {
   "cell_type": "code",
   "execution_count": 28,
   "metadata": {},
   "outputs": [
    {
     "name": "stdout",
     "output_type": "stream",
     "text": [
      "[10, 20, 30]\n",
      "30\n",
      "20\n",
      "10\n",
      "[]\n"
     ]
    }
   ],
   "source": [
    "#スタック\n",
    "stack = []\n",
    "#push\n",
    "stack.append(10)\n",
    "stack.append(20)\n",
    "stack.append(30)\n",
    "print(stack)\n",
    "\n",
    "#pop\n",
    "print(stack.pop())\n",
    "print(stack.pop())\n",
    "print(stack.pop())\n",
    "print(stack)"
   ]
  },
  {
   "cell_type": "code",
   "execution_count": 1,
   "metadata": {},
   "outputs": [
    {
     "name": "stdout",
     "output_type": "stream",
     "text": [
      "deque([10, 20, 30])\n",
      "10\n",
      "deque([20, 30])\n"
     ]
    }
   ],
   "source": [
    "#キュー\n",
    "# import collections\n",
    "from collections import deque\n",
    "\n",
    "deque = deque()\n",
    "deque.append(10)\n",
    "deque.append(20)\n",
    "deque.append(30)\n",
    "print(deque)\n",
    "\n",
    "print(deque.popleft()) #先頭から取り出す\n",
    "print(deque)\n",
    "\n"
   ]
  },
  {
   "attachments": {},
   "cell_type": "markdown",
   "metadata": {},
   "source": [
    "### リストの内包表記"
   ]
  },
  {
   "cell_type": "code",
   "execution_count": 3,
   "metadata": {},
   "outputs": [
    {
     "name": "stdout",
     "output_type": "stream",
     "text": [
      "[0, 1, 4, 9, 16, 25, 36, 49, 64, 81]\n",
      "9\n"
     ]
    }
   ],
   "source": [
    "squares = []\n",
    "for x in range(10):\n",
    "    squares.append(x**2)\n",
    "print(squares)\n",
    "print(x)"
   ]
  },
  {
   "cell_type": "code",
   "execution_count": 9,
   "metadata": {},
   "outputs": [
    {
     "name": "stdout",
     "output_type": "stream",
     "text": [
      "[0, 1, 4, 9, 16, 25, 36, 49, 64, 81]\n"
     ]
    }
   ],
   "source": [
    "# def square(x):\n",
    "#     return x**2\n",
    "squares = list(map(lambda x: x**2, range(10)))\n",
    "# map関数は第一引数に処理内容、第二引数に処理対象のリストを指定する。\n",
    "print(squares)"
   ]
  },
  {
   "cell_type": "code",
   "execution_count": 10,
   "metadata": {},
   "outputs": [
    {
     "name": "stdout",
     "output_type": "stream",
     "text": [
      "[0, 1, 4, 9, 16, 25, 36, 49, 64, 81]\n"
     ]
    }
   ],
   "source": [
    "squares = [x**2 for x in range(10)]\n",
    "print(squares)"
   ]
  },
  {
   "attachments": {},
   "cell_type": "markdown",
   "metadata": {},
   "source": [
    "# Pythonのタプル型\n",
    "不変(imutable)"
   ]
  },
  {
   "cell_type": "code",
   "execution_count": 49,
   "metadata": {},
   "outputs": [
    {
     "name": "stdout",
     "output_type": "stream",
     "text": [
      "(10, 20, 30, 40, 50, 60)\n"
     ]
    }
   ],
   "source": [
    "tuple = (10, 20, 30, 40, 50, 60)\n",
    "print(tuple)"
   ]
  },
  {
   "cell_type": "code",
   "execution_count": 51,
   "metadata": {},
   "outputs": [
    {
     "name": "stdout",
     "output_type": "stream",
     "text": [
      "40\n",
      "50\n"
     ]
    }
   ],
   "source": [
    "print(tuple[3])\n",
    "print(tuple[-2])"
   ]
  },
  {
   "cell_type": "code",
   "execution_count": 54,
   "metadata": {},
   "outputs": [],
   "source": [
    "# 変更できません(imutable)\n",
    "# tuple[3] = 100 # エラーになる\n",
    "# tuple.append(100) # エラーになる\n",
    "# del tuple[3] # エラーになる"
   ]
  }
 ],
 "metadata": {
  "kernelspec": {
   "display_name": ".venv",
   "language": "python",
   "name": "python3"
  },
  "language_info": {
   "codemirror_mode": {
    "name": "ipython",
    "version": 3
   },
   "file_extension": ".py",
   "mimetype": "text/x-python",
   "name": "python",
   "nbconvert_exporter": "python",
   "pygments_lexer": "ipython3",
   "version": "3.11.1"
  },
  "orig_nbformat": 4,
  "vscode": {
   "interpreter": {
    "hash": "ff82a638d3cd0e919dd0937da27591e27aa4e682df7daf8be57ecd65a6e0e6dd"
   }
  }
 },
 "nbformat": 4,
 "nbformat_minor": 2
}
