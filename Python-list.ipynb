{
 "cells": [
  {
   "attachments": {},
   "cell_type": "markdown",
   "metadata": {},
   "source": [
    "# Pythinのリスト型\n",
    "可変(mutable)"
   ]
  },
  {
   "cell_type": "code",
   "execution_count": 43,
   "metadata": {},
   "outputs": [
    {
     "name": "stdout",
     "output_type": "stream",
     "text": [
      "[10, 20, 30, 40, 50, 60, 70]\n"
     ]
    }
   ],
   "source": [
    "list = [10, 20, 30, 40, 50, 60, 70]\n",
    "print(list)"
   ]
  },
  {
   "cell_type": "code",
   "execution_count": 44,
   "metadata": {},
   "outputs": [
    {
     "name": "stdout",
     "output_type": "stream",
     "text": [
      "40\n",
      "70\n",
      "[20, 30]\n",
      "[20]\n"
     ]
    }
   ],
   "source": [
    "# 要素を取り出す\n",
    "print(list[3]) #前から\n",
    "print(list[-1]) #後ろから\n",
    "print(list[1:3]) #スライス\n",
    "print(list[1:2]) #スライスするとリストになる"
   ]
  },
  {
   "cell_type": "code",
   "execution_count": 45,
   "metadata": {},
   "outputs": [
    {
     "name": "stdout",
     "output_type": "stream",
     "text": [
      "[10, 20, 30, 100, 200, 300, 400]\n"
     ]
    }
   ],
   "source": [
    "# 要素を変更する\n",
    "list[3] =100\n",
    "list[4:7] = [200,300,400]\n",
    "print(list)"
   ]
  },
  {
   "cell_type": "code",
   "execution_count": 46,
   "metadata": {},
   "outputs": [
    {
     "name": "stdout",
     "output_type": "stream",
     "text": [
      "[10, 20, 30, 100, 200, 300, 400, 500]\n",
      "[10, 500, 20, 30, 100, 200, 300, 400, 500]\n"
     ]
    }
   ],
   "source": [
    "# 要素を追加する\n",
    "list.append(500) # 末尾に追加\n",
    "print(list)\n",
    "\n",
    "list.insert(1,500) # 任意の位置に追加 list.insert(インデックス,追加する数値)\n",
    "print(list)"
   ]
  },
  {
   "cell_type": "code",
   "execution_count": 47,
   "metadata": {},
   "outputs": [
    {
     "name": "stdout",
     "output_type": "stream",
     "text": [
      "[10, 500, 20, 100, 200, 300, 400, 500]\n",
      "[20, 100, 200, 300, 400, 500]\n",
      "[20, 100, 200, 300, 500]\n"
     ]
    }
   ],
   "source": [
    "# 要素を削除する\n",
    "del list[3] # 任意の位置を削除\n",
    "print(list)\n",
    "\n",
    "del list[0:2] # スライスで削除\n",
    "print(list)\n",
    "\n",
    "list[-2:-1] = [] # 空リストを代入すると削除される\n",
    "print(list)"
   ]
  },
  {
   "cell_type": "code",
   "execution_count": 48,
   "metadata": {},
   "outputs": [
    {
     "name": "stdout",
     "output_type": "stream",
     "text": [
      "5\n"
     ]
    }
   ],
   "source": [
    "# 要素数\n",
    "print(len(list)) # 要素数を表示する"
   ]
  },
  {
   "attachments": {},
   "cell_type": "markdown",
   "metadata": {},
   "source": [
    "### リスト型についてもう少し"
   ]
  },
  {
   "cell_type": "code",
   "execution_count": 9,
   "metadata": {},
   "outputs": [
    {
     "name": "stdout",
     "output_type": "stream",
     "text": [
      "[10, 20, 30, 40, 50, 60, 100]\n",
      "[10, 20, 30, 40, 50, 60, 100, 1000, 2000]\n",
      "[10, 20, 20, 30, 40, 50, 60, 100, 1000, 2000]\n",
      "[10, 20, 30, 40, 50, 60, 100, 1000, 2000]\n"
     ]
    }
   ],
   "source": [
    "l = [10,20,30,40,50,60]\n",
    "l.append(100)\n",
    "# l[len(l):] = [100]　#一緒の意味\n",
    "print(l)\n",
    "\n",
    "l.extend((1000,2000)) #appendやと複数引数はエラーになる\n",
    "print(l)\n",
    "\n",
    "l.insert(1, 20) #(入れたい場所,値)\n",
    "print(l)\n",
    "\n",
    "l.remove(20) #バリューで指定\n",
    "print(l)\n",
    "\n"
   ]
  },
  {
   "attachments": {},
   "cell_type": "markdown",
   "metadata": {},
   "source": [
    "# Pythonのタプル型\n",
    "不変(imutable)"
   ]
  },
  {
   "cell_type": "code",
   "execution_count": 49,
   "metadata": {},
   "outputs": [
    {
     "name": "stdout",
     "output_type": "stream",
     "text": [
      "(10, 20, 30, 40, 50, 60)\n"
     ]
    }
   ],
   "source": [
    "tuple = (10, 20, 30, 40, 50, 60)\n",
    "print(tuple)"
   ]
  },
  {
   "cell_type": "code",
   "execution_count": 51,
   "metadata": {},
   "outputs": [
    {
     "name": "stdout",
     "output_type": "stream",
     "text": [
      "40\n",
      "50\n"
     ]
    }
   ],
   "source": [
    "print(tuple[3])\n",
    "print(tuple[-2])"
   ]
  },
  {
   "cell_type": "code",
   "execution_count": 54,
   "metadata": {},
   "outputs": [],
   "source": [
    "# 変更できません(imutable)\n",
    "# tuple[3] = 100 # エラーになる\n",
    "# tuple.append(100) # エラーになる\n",
    "# del tuple[3] # エラーになる"
   ]
  }
 ],
 "metadata": {
  "kernelspec": {
   "display_name": ".venv",
   "language": "python",
   "name": "python3"
  },
  "language_info": {
   "codemirror_mode": {
    "name": "ipython",
    "version": 3
   },
   "file_extension": ".py",
   "mimetype": "text/x-python",
   "name": "python",
   "nbconvert_exporter": "python",
   "pygments_lexer": "ipython3",
   "version": "3.11.1"
  },
  "orig_nbformat": 4,
  "vscode": {
   "interpreter": {
    "hash": "ff82a638d3cd0e919dd0937da27591e27aa4e682df7daf8be57ecd65a6e0e6dd"
   }
  }
 },
 "nbformat": 4,
 "nbformat_minor": 2
}
