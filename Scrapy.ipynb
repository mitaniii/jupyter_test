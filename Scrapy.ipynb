{
 "cells": [
  {
   "attachments": {},
   "cell_type": "markdown",
   "metadata": {},
   "source": [
    "# Scrapy\n",
    "```\n",
    "pip install scrapy\n",
    "```"
   ]
  },
  {
   "attachments": {},
   "cell_type": "markdown",
   "metadata": {},
   "source": [
    "1. プロジェクト作成\n",
    "```\n",
    "scrapy startproject sample\n",
    "cd sample\n",
    "```\n",
    "\n",
    "2. settings.py 編集\n",
    "    1. ダウンロード間隔を設定\n",
    "    - `DOWNLOAD_DELAY = 1`\n",
    "\n",
    "3. items.py 編集\n",
    "    1. URL取得\n",
    "    - `url = scrapy.Field()`\n",
    "\n",
    "4. spider 作成\n",
    "```\n",
    "scrapy genspider sample_spider sample.hatelabo.jp\n",
    "```\n",
    "\n",
    "5. spider 編集\n",
    "    - start_urls : http -> https\n",
    "    - parse\n",
    "\n",
    "\n",
    "6. クロール実行\n",
    "```\n",
    "scrapy crawl sample_spider\n",
    "```\n",
    "\n"
   ]
  },
  {
   "cell_type": "code",
   "execution_count": null,
   "metadata": {},
   "outputs": [],
   "source": [
    "\n"
   ]
  }
 ],
 "metadata": {
  "kernelspec": {
   "display_name": ".venv",
   "language": "python",
   "name": "python3"
  },
  "language_info": {
   "name": "python",
   "version": "3.11.1"
  },
  "orig_nbformat": 4,
  "vscode": {
   "interpreter": {
    "hash": "ff82a638d3cd0e919dd0937da27591e27aa4e682df7daf8be57ecd65a6e0e6dd"
   }
  }
 },
 "nbformat": 4,
 "nbformat_minor": 2
}
