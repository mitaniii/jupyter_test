{
 "cells": [
  {
   "attachments": {},
   "cell_type": "markdown",
   "metadata": {},
   "source": [
    "# クラス"
   ]
  },
  {
   "cell_type": "code",
   "execution_count": 16,
   "metadata": {},
   "outputs": [
    {
     "name": "stdout",
     "output_type": "stream",
     "text": [
      "foo 1230\n",
      "hello foo\n",
      "100\n"
     ]
    }
   ],
   "source": [
    "class Foo:\n",
    "    name = \"foo\"\n",
    "    number = 123\n",
    "\n",
    "    def greeting(self): #selfを書かないと動かない\n",
    "        print(\"hello\", self.name)\n",
    "    def test(self, n): #第一引数には必ずself\n",
    "        print(n)\n",
    "\n",
    "f = Foo()\n",
    "f.number *= 10\n",
    "print(f.name, f.number)\n",
    "f.greeting()\n",
    "f.test(100)"
   ]
  },
  {
   "cell_type": "code",
   "execution_count": 25,
   "metadata": {},
   "outputs": [
    {
     "name": "stdout",
     "output_type": "stream",
     "text": [
      "hello, person Alices.\n",
      "hello, person Bob.\n",
      "Bob\n"
     ]
    }
   ],
   "source": [
    "class Person:\n",
    "    def __init__(self, name): #コンストラクタ的な\n",
    "        self.name = name\n",
    "\n",
    "    def greet(self):\n",
    "        print(\"hello, person \"+ self.name + \".\")\n",
    "\n",
    "alices = Person('Alices')\n",
    "alices.greet()\n",
    "bob = Person('Bob')\n",
    "bob.greet()\n",
    "print(bob.name)"
   ]
  },
  {
   "cell_type": "code",
   "execution_count": 33,
   "metadata": {},
   "outputs": [
    {
     "name": "stdout",
     "output_type": "stream",
     "text": [
      "Taro 30 yokohama\n",
      "Jiro 20 yokohama\n",
      "Hana 10 tokyo\n",
      "3\n",
      "jirosan\n"
     ]
    }
   ],
   "source": [
    "class Member:\n",
    "    count = 0 #ここに書くとクラス変数\n",
    "\n",
    "    def __init__(self, name, age, address=\"yokohama\"):\n",
    "        #ここはインスタンス変数の定義\n",
    "        self.name = name\n",
    "        self.age = age\n",
    "        self.address = address\n",
    "        Member.count += 1\n",
    "\n",
    "    \n",
    "\n",
    "taro = Member('Taro', 30)\n",
    "jiro = Member('Jiro', 20)\n",
    "hana = Member('Hana', 10, \"tokyo\")\n",
    "members = [taro, jiro, hana]\n",
    "for member in members:\n",
    "    print(member.name, member.age, member.address)\n",
    "\n",
    "print(Member.count)\n",
    "jiro.name = \"jirosan\"\n",
    "print(jiro.name)\n"
   ]
  },
  {
   "attachments": {},
   "cell_type": "markdown",
   "metadata": {},
   "source": [
    "### publicとprivate"
   ]
  },
  {
   "cell_type": "code",
   "execution_count": 38,
   "metadata": {},
   "outputs": [
    {
     "name": "stdout",
     "output_type": "stream",
     "text": [
      "CM\n",
      "CM\n"
     ]
    }
   ],
   "source": [
    "class Company:\n",
    "    def __init__(self, name):\n",
    "        self.__name = name #変数名の前にアンダースコアで非public\n",
    "    def get_name(self):\n",
    "        return self.__name\n",
    "\n",
    "cm = Company('CM')\n",
    "cm.__name = \"Cyber\"\n",
    "print(cm.get_name())\n",
    "print(cm._Company__name)\n"
   ]
  },
  {
   "attachments": {},
   "cell_type": "markdown",
   "metadata": {},
   "source": [
    "### 継承　subClass(superClass):"
   ]
  },
  {
   "cell_type": "code",
   "execution_count": 50,
   "metadata": {},
   "outputs": [
    {
     "name": "stdout",
     "output_type": "stream",
     "text": [
      "Bar\n",
      "Bar\n",
      "Baz\n"
     ]
    }
   ],
   "source": [
    "class Foo:\n",
    "    def print(self):\n",
    "        print(\"Foo\")\n",
    "\n",
    "class Bar(Foo): #Foo継承\n",
    "    def print(self):\n",
    "        print(\"Bar\")\n",
    "\n",
    "class Baz(Bar): #Bar継承\n",
    "    def print(self):\n",
    "        super().print() #superclassのメソッドが呼べる\n",
    "        print(\"Baz\") #オーバーライド(上書き)\n",
    "\n",
    "Bar().print()\n",
    "Baz().print()"
   ]
  },
  {
   "cell_type": "code",
   "execution_count": 53,
   "metadata": {},
   "outputs": [
    {
     "name": "stdout",
     "output_type": "stream",
     "text": [
      "100\n"
     ]
    }
   ],
   "source": [
    "class Foo:\n",
    "    def __init__(self, arg):\n",
    "        self.arg = arg\n",
    "\n",
    "class Bar(Foo):\n",
    "    def __init__(self, arg):\n",
    "        super().__init__(arg)\n",
    "        \n",
    "\n",
    "b = Bar(100)\n",
    "print(b.arg)"
   ]
  },
  {
   "cell_type": "code",
   "execution_count": 48,
   "metadata": {},
   "outputs": [
    {
     "name": "stdout",
     "output_type": "stream",
     "text": [
      "dog pochi\n",
      "cat Tama\n"
     ]
    }
   ],
   "source": [
    "#引数を渡す継承\n",
    "\n",
    "class Animal:\n",
    "    def __init__(self, kind):\n",
    "        self.kind = kind\n",
    "\n",
    "class Dog(Animal):\n",
    "    def __init__(self, name):\n",
    "        super().__init__(\"dog\") #kindにdogを入れる\n",
    "        self.name = name\n",
    "class Cat(Animal):\n",
    "    def __init__(self, name):\n",
    "        super().__init__(\"cat\") #kindにcatを入れる\n",
    "        self.name = name\n",
    "\n",
    "animals = [Dog(\"pochi\"), Cat(\"Tama\")]\n",
    "for a in animals:\n",
    "    print(a.kind, a.name)\n"
   ]
  }
 ],
 "metadata": {
  "kernelspec": {
   "display_name": ".venv",
   "language": "python",
   "name": "python3"
  },
  "language_info": {
   "codemirror_mode": {
    "name": "ipython",
    "version": 3
   },
   "file_extension": ".py",
   "mimetype": "text/x-python",
   "name": "python",
   "nbconvert_exporter": "python",
   "pygments_lexer": "ipython3",
   "version": "3.11.1"
  },
  "orig_nbformat": 4,
  "vscode": {
   "interpreter": {
    "hash": "ff82a638d3cd0e919dd0937da27591e27aa4e682df7daf8be57ecd65a6e0e6dd"
   }
  }
 },
 "nbformat": 4,
 "nbformat_minor": 2
}
