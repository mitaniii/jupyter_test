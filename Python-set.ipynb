{
 "cells": [
  {
   "attachments": {},
   "cell_type": "markdown",
   "metadata": {},
   "source": [
    "# 集合型(set)"
   ]
  },
  {
   "cell_type": "code",
   "execution_count": 4,
   "metadata": {},
   "outputs": [
    {
     "name": "stdout",
     "output_type": "stream",
     "text": [
      "{'banana', 'apple', 'orange'}\n"
     ]
    }
   ],
   "source": [
    "basket = {'apple', 'orange', 'banana','apple', 'banana' }\n",
    "print(basket) \n",
    "# リスト、タプルとは違う点、重複は1つしか表示されない、順番がない"
   ]
  },
  {
   "cell_type": "code",
   "execution_count": 12,
   "metadata": {},
   "outputs": [
    {
     "name": "stdout",
     "output_type": "stream",
     "text": [
      "{'a', 'd', 'k', 'n', 'b', 's'} {'a', 'd', 'j', 'k', 's'}\n",
      "{'n', 'b'}\n",
      "{'a', 'd', 'j', 'k', 'n', 'b', 's'}\n",
      "{'s', 'a', 'd', 'k'}\n",
      "{'n', 'b', 'j'}\n"
     ]
    }
   ],
   "source": [
    "a = set('absbsndka') #重複を省いて集合にする\n",
    "b = set('aksjdaj')\n",
    "print(a, b)\n",
    "print(a - b) #集合の引き算ができる\n",
    "# print(a + b) #error\n",
    "print(a | b) #重複を取り除いて合体(論理和or)\n",
    "print(a & b) #重複を取り除いて合体(論理積and)\n",
    "print(a ^ b) #重複を取り除いて合体(排他的論理和xor)"
   ]
  },
  {
   "attachments": {},
   "cell_type": "markdown",
   "metadata": {},
   "source": [
    "# 辞書型(dictionary)"
   ]
  },
  {
   "cell_type": "code",
   "execution_count": 16,
   "metadata": {},
   "outputs": [
    {
     "name": "stdout",
     "output_type": "stream",
     "text": [
      "{'jack': 4098, 'guido': 4271}\n"
     ]
    }
   ],
   "source": [
    "tel = {'jack': 4098, 'sape': 4139}\n",
    "tel['guido'] =4271 #add\n",
    "tel['sape'] =4471 #update\n",
    "del tel['sape'] #delete\n",
    "print(tel)"
   ]
  },
  {
   "cell_type": "code",
   "execution_count": 25,
   "metadata": {},
   "outputs": [
    {
     "name": "stdout",
     "output_type": "stream",
     "text": [
      "['jack', 'guido']\n",
      "jack 4098\n",
      "guido 4271\n",
      "['guido', 'jack']\n",
      "True\n",
      "False\n"
     ]
    }
   ],
   "source": [
    "print(list(tel)) #keys リストができる\n",
    "for t in tel: #辞書型を分解\n",
    "    print(t, tel[t]) #keyとbalueを出力\n",
    "    \n",
    "print(sorted(tel)) #sote 順番\n",
    "print('guido' in tel) #check\n",
    "print('sape' in tel) #check"
   ]
  }
 ],
 "metadata": {
  "kernelspec": {
   "display_name": ".venv",
   "language": "python",
   "name": "python3"
  },
  "language_info": {
   "codemirror_mode": {
    "name": "ipython",
    "version": 3
   },
   "file_extension": ".py",
   "mimetype": "text/x-python",
   "name": "python",
   "nbconvert_exporter": "python",
   "pygments_lexer": "ipython3",
   "version": "3.11.1 (main, Feb  1 2023, 11:16:32) [GCC 11.3.0]"
  },
  "orig_nbformat": 4,
  "vscode": {
   "interpreter": {
    "hash": "ff82a638d3cd0e919dd0937da27591e27aa4e682df7daf8be57ecd65a6e0e6dd"
   }
  }
 },
 "nbformat": 4,
 "nbformat_minor": 2
}
