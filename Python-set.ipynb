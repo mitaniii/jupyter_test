{
 "cells": [
  {
   "attachments": {},
   "cell_type": "markdown",
   "metadata": {},
   "source": [
    "# 集合型(set)"
   ]
  },
  {
   "cell_type": "code",
   "execution_count": 4,
   "metadata": {},
   "outputs": [
    {
     "name": "stdout",
     "output_type": "stream",
     "text": [
      "{'banana', 'apple', 'orange'}\n"
     ]
    }
   ],
   "source": [
    "basket = {'apple', 'orange', 'banana','apple', 'banana' }\n",
    "print(basket) \n",
    "# リスト、タプルとは違う点、重複は1つしか表示されない、順番がない"
   ]
  },
  {
   "cell_type": "code",
   "execution_count": 12,
   "metadata": {},
   "outputs": [
    {
     "name": "stdout",
     "output_type": "stream",
     "text": [
      "{'a', 'd', 'k', 'n', 'b', 's'} {'a', 'd', 'j', 'k', 's'}\n",
      "{'n', 'b'}\n",
      "{'a', 'd', 'j', 'k', 'n', 'b', 's'}\n",
      "{'s', 'a', 'd', 'k'}\n",
      "{'n', 'b', 'j'}\n"
     ]
    }
   ],
   "source": [
    "a = set('absbsndka') #重複を省いて集合にする\n",
    "b = set('aksjdaj')\n",
    "print(a, b)\n",
    "print(a - b) #集合の引き算ができる\n",
    "# print(a + b) #error\n",
    "print(a | b) #重複を取り除いて合体(論理和or)\n",
    "print(a & b) #重複を取り除いて合体(論理積and)\n",
    "print(a ^ b) #重複を取り除いて合体(排他的論理和xor)"
   ]
  },
  {
   "cell_type": "code",
   "execution_count": null,
   "metadata": {},
   "outputs": [],
   "source": [
    "#リストからsetへ\n",
    "basket = ['apple', 'orange', 'banana','apple', 'banana' ]\n",
    "for f in sorted(set(basket)):\n",
    "    print(f)\n",
    "\n",
    "print(list(sorted(set(basket))))"
   ]
  },
  {
   "attachments": {},
   "cell_type": "markdown",
   "metadata": {},
   "source": [
    "# 辞書型(dictionary)"
   ]
  },
  {
   "cell_type": "code",
   "execution_count": 16,
   "metadata": {},
   "outputs": [
    {
     "name": "stdout",
     "output_type": "stream",
     "text": [
      "{'jack': 4098, 'guido': 4271}\n"
     ]
    }
   ],
   "source": [
    "tel = {'jack': 4098, 'sape': 4139}\n",
    "tel['guido'] =4271 #add\n",
    "tel['sape'] =4471 #update\n",
    "del tel['sape'] #delete\n",
    "print(tel)"
   ]
  },
  {
   "cell_type": "code",
   "execution_count": 25,
   "metadata": {},
   "outputs": [
    {
     "name": "stdout",
     "output_type": "stream",
     "text": [
      "['jack', 'guido']\n",
      "jack 4098\n",
      "guido 4271\n",
      "['guido', 'jack']\n",
      "True\n",
      "False\n"
     ]
    }
   ],
   "source": [
    "print(list(tel)) #keys リストができる\n",
    "for t in tel: #辞書型を分解\n",
    "    print(t, tel[t]) #keyとbalueを出力\n",
    "    \n",
    "print(sorted(tel)) #sote 順番\n",
    "print('guido' in tel) #check\n",
    "print('sape' in tel) #check"
   ]
  },
  {
   "attachments": {},
   "cell_type": "markdown",
   "metadata": {},
   "source": [
    "### 内包表記"
   ]
  },
  {
   "cell_type": "code",
   "execution_count": 6,
   "metadata": {},
   "outputs": [
    {
     "name": "stdout",
     "output_type": "stream",
     "text": [
      "apple 100\n",
      "banana 200\n",
      "orange 300\n",
      "{'apple': 100, 'banana': 200, 'orange': 300}\n",
      "{'apple': 100, 'banana': 200, 'orange': 300}\n",
      "{'apple': 100, 'banana': 200, 'orange': 300}\n",
      "{'apple': 100, 'banana': 200, 'orange': 300}\n"
     ]
    }
   ],
   "source": [
    "keys = [\"apple\", \"banana\", \"orange\"]\n",
    "values = [100, 200, 300]\n",
    "\n",
    "d = {}\n",
    "for k, v in zip(keys, values):\n",
    "    d[k] = v\n",
    "\n",
    "print(d)\n",
    "\n",
    "for k, v in zip(keys, values): #zipはふたつの配列を順番に分ける\n",
    "    print(k, v)\n",
    "\n",
    "d = dict(zip(keys, values))\n",
    "print(d)\n",
    "\n",
    "print({k: v for k, v in zip(keys, values)})\n",
    "\n",
    "print(dict(zip(keys, values)))\n"
   ]
  },
  {
   "cell_type": "code",
   "execution_count": 20,
   "metadata": {},
   "outputs": [
    {
     "name": "stdout",
     "output_type": "stream",
     "text": [
      "{'apple': 100, 'banana': 200, 'orange': 300}\n",
      "apple\n",
      "100\n",
      "banana\n",
      "200\n",
      "orange\n",
      "300\n",
      "apple 100\n",
      "banana 200\n",
      "orange 300\n",
      "dict_keys(['apple', 'banana', 'orange'])\n",
      "dict_values([100, 200, 300])\n",
      "dict_items([('apple', 100), ('banana', 200), ('orange', 300)])\n",
      "0 apple\n",
      "1 banana\n",
      "2 orange\n",
      "orange banana apple "
     ]
    }
   ],
   "source": [
    "print(d) #直前のd\n",
    "for x in d:\n",
    "    print(x) #key\n",
    "    print(d[x]) #value\n",
    "\n",
    "for k, v in d.items():\n",
    "    print(k, v) #key,value\n",
    "\n",
    "print(d.keys()) #keyだけ\n",
    "print(d.values()) #valueだけ\n",
    "print(d.items()) #keyもvalueも\n",
    "\n",
    "for i, x in enumerate(d): #indexと要素を同時に取りたい\n",
    "    print(i, x)\n",
    "\n",
    "for i in reversed(d): #逆再生\n",
    "    print(i, end=' ')"
   ]
  }
 ],
 "metadata": {
  "kernelspec": {
   "display_name": ".venv",
   "language": "python",
   "name": "python3"
  },
  "language_info": {
   "codemirror_mode": {
    "name": "ipython",
    "version": 3
   },
   "file_extension": ".py",
   "mimetype": "text/x-python",
   "name": "python",
   "nbconvert_exporter": "python",
   "pygments_lexer": "ipython3",
   "version": "3.11.1"
  },
  "orig_nbformat": 4,
  "vscode": {
   "interpreter": {
    "hash": "ff82a638d3cd0e919dd0937da27591e27aa4e682df7daf8be57ecd65a6e0e6dd"
   }
  }
 },
 "nbformat": 4,
 "nbformat_minor": 2
}
