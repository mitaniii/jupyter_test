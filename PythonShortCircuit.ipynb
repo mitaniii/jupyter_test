{
 "cells": [
  {
   "attachments": {},
   "cell_type": "markdown",
   "metadata": {},
   "source": [
    "### short circuit ショートサーキット\n",
    "#### 短絡演算子"
   ]
  },
  {
   "cell_type": "code",
   "execution_count": 12,
   "metadata": {},
   "outputs": [
    {
     "name": "stdout",
     "output_type": "stream",
     "text": [
      "True True\n",
      "False False\n",
      "None False\n",
      "1 True\n",
      "0 False\n",
      "-1 True\n",
      " False\n",
      "A True\n",
      "  True\n",
      "[] False\n",
      "[False] True\n"
     ]
    }
   ],
   "source": [
    "#True or False\n",
    "\n",
    "obj = [True, False, None, 1, 0, -1, \"\", \"A\", \" \", [], [False]]\n",
    "for o in obj:\n",
    "    print(o, bool(o))\n",
    "\n"
   ]
  },
  {
   "cell_type": "code",
   "execution_count": 15,
   "metadata": {},
   "outputs": [
    {
     "name": "stdout",
     "output_type": "stream",
     "text": [
      "Trondheim\n",
      "2\n",
      "0\n"
     ]
    }
   ],
   "source": [
    "#short circuit\n",
    "string1, string2, string3 = '', 'Trondheim', 'Hammer Dance'\n",
    "non_null = string1 or string2 or string3\n",
    "#or左から順にみて、はじめにTrueになったものを返して後ろは実行しない\n",
    "print(non_null)\n",
    "\n",
    "#a,b,cのうちゼロ出ないものを渡す\n",
    "a, b, c = 0, 1*2*0, 1*2\n",
    "print(a or b or c)\n",
    "print(a & b and c)\n",
    "#and左から順にみて、はじめにFalseになったものを返して後ろは実行しない"
   ]
  },
  {
   "attachments": {},
   "cell_type": "markdown",
   "metadata": {},
   "source": [
    "### セイウチ演算子  :="
   ]
  },
  {
   "cell_type": "code",
   "execution_count": 26,
   "metadata": {},
   "outputs": [
    {
     "name": "stdout",
     "output_type": "stream",
     "text": [
      "6 -1\n"
     ]
    }
   ],
   "source": [
    "#式中で代入する\n",
    "n, m = -1, -1\n",
    "if (n := 1 * 2 * 3) or (m := 10):\n",
    "    #orの特性で、後ろを処理していない\n",
    "    pass\n",
    "print(n, m)\n"
   ]
  }
 ],
 "metadata": {
  "kernelspec": {
   "display_name": ".venv",
   "language": "python",
   "name": "python3"
  },
  "language_info": {
   "codemirror_mode": {
    "name": "ipython",
    "version": 3
   },
   "file_extension": ".py",
   "mimetype": "text/x-python",
   "name": "python",
   "nbconvert_exporter": "python",
   "pygments_lexer": "ipython3",
   "version": "3.11.1"
  },
  "orig_nbformat": 4,
  "vscode": {
   "interpreter": {
    "hash": "ff82a638d3cd0e919dd0937da27591e27aa4e682df7daf8be57ecd65a6e0e6dd"
   }
  }
 },
 "nbformat": 4,
 "nbformat_minor": 2
}
