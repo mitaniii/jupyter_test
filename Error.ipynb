{
 "cells": [
  {
   "attachments": {},
   "cell_type": "markdown",
   "metadata": {},
   "source": [
    "## エラーと例外"
   ]
  },
  {
   "cell_type": "code",
   "execution_count": 4,
   "metadata": {},
   "outputs": [
    {
     "name": "stdout",
     "output_type": "stream",
     "text": [
      "Hello\n",
      "Hello\n",
      "Hello\n",
      "ii\n"
     ]
    }
   ],
   "source": [
    "#sintaxError\n",
    "\n",
    "# while True print (\"Hello\")\n",
    "\n",
    "i = 0 \n",
    "while i < 3:\n",
    "    print (\"Hello\")\n",
    "    i += 1\n",
    "\n",
    "i = 0\n",
    "if i > 0:\n",
    "    printt(\"ha\") #記述間違いでも停止しない\n",
    "else:\n",
    "    print(\"ii\")"
   ]
  },
  {
   "attachments": {},
   "cell_type": "markdown",
   "metadata": {},
   "source": [
    "### 例外処理 try"
   ]
  },
  {
   "cell_type": "code",
   "execution_count": 47,
   "metadata": {},
   "outputs": [
    {
     "name": "stdout",
     "output_type": "stream",
     "text": [
      "OK\n",
      "NoError\n",
      "END\n",
      "3.0\n",
      "END\n",
      "タイプエラーです\n",
      "END\n",
      "ゼロ除算エラーです\n"
     ]
    }
   ],
   "source": [
    "# 例外Error\n",
    "\n",
    "# x, y = 15, \"A\"\n",
    "# print(x / y)\n",
    "\n",
    "def div(a, b):\n",
    "    try: #tryの中に正しい処理を記述\n",
    "        x = a / b\n",
    "        print(\"OK\")\n",
    "    except TypeError:\n",
    "        return \"タイプエラーです\"\n",
    "    except ZeroDivisionError:\n",
    "        return \"ゼロ除算エラーです\" \n",
    "    # except (TypeError, ZeroDivisionError):\n",
    "    #     return \"エラー\"\n",
    "    except Exception:\n",
    "        return \"その他のエラー\"\n",
    "    else: #tryの中でエラーがなかった場合\n",
    "        print(\"NoError\")\n",
    "        return x\n",
    "    finally: #例外が発生してもしなくても実行される\n",
    "        print(\"END\")\n",
    "\n",
    "print(div(15, 5))\n",
    "print(div(15, 'T'))\n",
    "print(div(15, 0))\n"
   ]
  },
  {
   "cell_type": "code",
   "execution_count": 38,
   "metadata": {},
   "outputs": [
    {
     "name": "stdout",
     "output_type": "stream",
     "text": [
      "keyError\n",
      "IndexError\n"
     ]
    }
   ],
   "source": [
    "#例外エラー例\n",
    "\n",
    "try:\n",
    "    d = {'a': 1, 'b': 2}\n",
    "    print(d['c'])\n",
    "except KeyError:\n",
    "    print(\"keyError\")\n",
    "\n",
    "try:\n",
    "    l = [1, 2, 3, 4, 5]\n",
    "    print(l[10])\n",
    "except IndexError:\n",
    "    print(\"IndexError\")"
   ]
  },
  {
   "cell_type": "code",
   "execution_count": 67,
   "metadata": {},
   "outputs": [
    {
     "name": "stdout",
     "output_type": "stream",
     "text": [
      "200\n",
      "タイプエラー\n",
      "金額と人数は正の数で入力してください\n",
      "金額と人数は正の数で入力してください\n"
     ]
    }
   ],
   "source": [
    "def warikan(amount, number):\n",
    "    try:\n",
    "        if amount <= 0 or number <= 0:\n",
    "            raise ValueError(\"金額と人数は正の数で入力してください\")\n",
    "        return amount // number + amount % number\n",
    "    except TypeError as e:\n",
    "        return \"タイプエラー\"\n",
    "    except ValueError as e:\n",
    "        return e\n",
    "    except Exception:\n",
    "        return \"その他のエラー\"\n",
    "\n",
    "print(warikan(1000, 5))\n",
    "print(warikan(1000, \"A\"))\n",
    "print(warikan(1000, 0))\n",
    "print(warikan(1000, -3))"
   ]
  },
  {
   "cell_type": "code",
   "execution_count": 79,
   "metadata": {},
   "outputs": [
    {
     "name": "stdout",
     "output_type": "stream",
     "text": [
      "A -> B の中で例外発生ぃ(B -> C の中で例外発生ぃ(Cで例外ぃ))\n"
     ]
    }
   ],
   "source": [
    "def funcA():\n",
    "    try:\n",
    "        return funcB()\n",
    "    except ValueError as e:\n",
    "        return f\"A -> B の中で例外発生ぃ({e})\"\n",
    "\n",
    "def funcB():\n",
    "    try:\n",
    "        return funcC()\n",
    "    except ValueError as e:\n",
    "        raise ValueError(f\"B -> C の中で例外発生ぃ({e})\")\n",
    "\n",
    "def funcC():\n",
    "    raise ValueError(\"Cで例外ぃ\")\n",
    "\n",
    "print(funcA())"
   ]
  }
 ],
 "metadata": {
  "kernelspec": {
   "display_name": ".venv",
   "language": "python",
   "name": "python3"
  },
  "language_info": {
   "codemirror_mode": {
    "name": "ipython",
    "version": 3
   },
   "file_extension": ".py",
   "mimetype": "text/x-python",
   "name": "python",
   "nbconvert_exporter": "python",
   "pygments_lexer": "ipython3",
   "version": "3.11.1"
  },
  "orig_nbformat": 4,
  "vscode": {
   "interpreter": {
    "hash": "ff82a638d3cd0e919dd0937da27591e27aa4e682df7daf8be57ecd65a6e0e6dd"
   }
  }
 },
 "nbformat": 4,
 "nbformat_minor": 2
}
