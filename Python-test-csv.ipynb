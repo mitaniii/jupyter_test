{
 "cells": [
  {
   "attachments": {},
   "cell_type": "markdown",
   "metadata": {},
   "source": [
    "## Pandas練習"
   ]
  },
  {
   "attachments": {},
   "cell_type": "markdown",
   "metadata": {},
   "source": [
    "### テスト用csv作成"
   ]
  },
  {
   "cell_type": "code",
   "execution_count": 1,
   "metadata": {},
   "outputs": [],
   "source": [
    "# csv作成\n",
    "import csv\n",
    "data_list = []\n",
    "for i in range(1,6):\n",
    "    data = [h + str(i) for h in \"ABCD\"]\n",
    "    data_list.append(data)\n",
    "\n",
    "with open(\"test.csv\", mode='w', encoding='utf-8') as f:\n",
    "    csv_writer = csv.writer(f, lineterminator='\\n')\n",
    "    csv_writer.writerows(data_list)"
   ]
  },
  {
   "cell_type": "code",
   "execution_count": 2,
   "metadata": {},
   "outputs": [
    {
     "name": "stdout",
     "output_type": "stream",
     "text": [
      "    0   1   2   3\n",
      "0  A1  B1  C1  D1\n",
      "1  A2  B2  C2  D2\n",
      "2  A3  B3  C3  D3\n",
      "3  A4  B4  C4  D4\n",
      "4  A5  B5  C5  D5 <class 'pandas.core.frame.DataFrame'>\n"
     ]
    }
   ],
   "source": [
    "# csvファイルを読み込む\n",
    "import pandas as pd\n",
    "df = pd.read_csv('test.csv', header=None)\n",
    "print(df, type(df))"
   ]
  },
  {
   "cell_type": "code",
   "execution_count": 3,
   "metadata": {},
   "outputs": [
    {
     "name": "stdout",
     "output_type": "stream",
     "text": [
      "[['A1' 'B1' 'C1' 'D1']\n",
      " ['A2' 'B2' 'C2' 'D2']\n",
      " ['A3' 'B3' 'C3' 'D3']\n",
      " ['A4' 'B4' 'C4' 'D4']\n",
      " ['A5' 'B5' 'C5' 'D5']] <class 'numpy.ndarray'>\n",
      "RangeIndex(start=0, stop=5, step=1) <class 'pandas.core.indexes.range.RangeIndex'>\n",
      "Int64Index([0, 1, 2, 3], dtype='int64') <class 'pandas.core.indexes.numeric.Int64Index'>\n"
     ]
    }
   ],
   "source": [
    "#3つの要素からなる\n",
    "print(df.values, type(df.values))\n",
    "print(df.index, type(df.index))\n",
    "print(df.columns, type(df.columns))"
   ]
  },
  {
   "cell_type": "code",
   "execution_count": 4,
   "metadata": {},
   "outputs": [
    {
     "name": "stdout",
     "output_type": "stream",
     "text": [
      "     col0 col1 col2 col3\n",
      "row0   A1   B1   C1   D1\n",
      "row1   A2   B2   C2   D2\n",
      "row2   A3   B3   C3   D3\n",
      "row3   A4   B4   C4   D4\n",
      "row4   A5   B5   C5   D5\n"
     ]
    }
   ],
   "source": [
    "#カラム名、レコード名つけた\n",
    "rows = ['row0', 'row1', 'row2', 'row3', 'row4']\n",
    "cols = ['col0', 'col1', 'col2', 'col3']\n",
    "df.index = rows\n",
    "df.columns = cols\n",
    "print(df)\n"
   ]
  },
  {
   "cell_type": "code",
   "execution_count": 5,
   "metadata": {},
   "outputs": [
    {
     "name": "stdout",
     "output_type": "stream",
     "text": [
      "         col0 col1 col2 col3\n",
      "row_name                    \n",
      "row0       A1   B1   C1   D1\n",
      "row1       A2   B2   C2   D2\n",
      "row2       A3   B3   C3   D3\n",
      "row3       A4   B4   C4   D4\n",
      "row4       A5   B5   C5   D5\n"
     ]
    }
   ],
   "source": [
    "#csvにもともとカラムがある場合\n",
    "df2 = pd.read_csv('test_set_index.csv', encoding='utf-8')\n",
    "df2 = df2.set_index('row_name')\n",
    "print(df2)"
   ]
  },
  {
   "cell_type": "code",
   "execution_count": 6,
   "metadata": {},
   "outputs": [
    {
     "name": "stdout",
     "output_type": "stream",
     "text": [
      "  row_name col0 col1 col2 col3\n",
      "0     row0   A1   B1   C1   D1\n",
      "1     row1   A2   B2   C2   D2\n",
      "2     row2   A3   B3   C3   D3\n",
      "3     row3   A4   B4   C4   D4\n",
      "4     row4   A5   B5   C5   D5\n"
     ]
    }
   ],
   "source": [
    "#set_indexをリセットしてみた\n",
    "print(df2.reset_index())"
   ]
  },
  {
   "cell_type": "code",
   "execution_count": 7,
   "metadata": {},
   "outputs": [
    {
     "name": "stdout",
     "output_type": "stream",
     "text": [
      "index 行名\n",
      "Index(['row0', 'row1', 'row2', 'row3', 'row4'], dtype='object')\n",
      "columns 列名\n",
      "Index(['col0', 'col1', 'col2', 'col3'], dtype='object')\n",
      "len 行数\n",
      "5\n",
      "len(columns) 列数\n",
      "4\n",
      "shape (行,列)数\n",
      "(5, 4)\n",
      "size 要素数 \n",
      "20\n",
      "memory_usage() メモリ使用量 \n",
      "Index    40\n",
      "col0     40\n",
      "col1     40\n",
      "col2     40\n",
      "col3     40\n",
      "dtype: int64\n"
     ]
    }
   ],
   "source": [
    "print(\"index 行名\\n{0}\".format(df.index))\n",
    "print(\"columns 列名\\n{0}\".format(df.columns))\n",
    "print(\"len 行数\\n{0}\".format(len(df)))\n",
    "print(\"len(columns) 列数\\n{0}\".format(len(df.columns)))\n",
    "print(\"shape (行,列)数\\n{0}\".format(df.shape))\n",
    "print(\"size 要素数 \\n{0}\".format(df.size))\n",
    "print(\"memory_usage() メモリ使用量 \\n{0}\".format(df.memory_usage()))"
   ]
  },
  {
   "cell_type": "code",
   "execution_count": 8,
   "metadata": {},
   "outputs": [
    {
     "name": "stdout",
     "output_type": "stream",
     "text": [
      "     col0 col1 col2 col3\n",
      "row0   A1   B1   C1   D1\n",
      "row1   A2   B2   C2   D2\n",
      "row2   A3   B3   C3   D3\n",
      "row3   A4   B4   C4   D4\n",
      "row4   A5   B5   C5   D5\n",
      "C4\n",
      "C4\n",
      "C4\n",
      "C4\n"
     ]
    }
   ],
   "source": [
    "print(df)\n",
    "\n",
    "#C4\n",
    "print(df.at['row3', 'col2']) #at(row, col)\n",
    "print(df.loc['row3', 'col2']) #loc(row, col)複数いける\n",
    "\n",
    "print(df.iat[3, 2]) #iat(rowの番号, colの番号)\n",
    "print(df.iloc[3, 2]) #iloc(rowの番号, colの番号)\n",
    "\n"
   ]
  },
  {
   "cell_type": "code",
   "execution_count": 15,
   "metadata": {},
   "outputs": [
    {
     "name": "stdout",
     "output_type": "stream",
     "text": [
      "row0    B1\n",
      "row1    B2\n",
      "row2    B3\n",
      "row3    B4\n",
      "row4    B5\n",
      "Name: col1, dtype: object\n",
      "col0    A4\n",
      "col1    B4\n",
      "col2    C4\n",
      "col3    D4\n",
      "Name: row3, dtype: object\n",
      "     col1 col2 col3\n",
      "row2   B3   C3   D3\n",
      "row3   B4   C4   D4\n",
      "     col1 col2 col3\n",
      "row2   B3   C3   D3\n",
      "row3   B4   C4   D4\n"
     ]
    }
   ],
   "source": [
    "print(df.iloc[:, 1])\n",
    "print(df.loc['row3'])\n",
    "# print(df.iloc[:, 'col1'])\n",
    "\n",
    "print(df.loc[['row2','row3'], 'col1':'col3'])\n",
    "print(df.iloc[[2,3], 1:4])"
   ]
  },
  {
   "cell_type": "code",
   "execution_count": 17,
   "metadata": {},
   "outputs": [
    {
     "name": "stdout",
     "output_type": "stream",
     "text": [
      "col0    A3\n",
      "col1    B3\n",
      "col2    C3\n",
      "col3    D3\n",
      "Name: row2, dtype: object <class 'pandas.core.series.Series'>\n",
      "row0    C1\n",
      "row1    C2\n",
      "row2    C3\n",
      "row3    C4\n",
      "row4    C5\n",
      "Name: col2, dtype: object <class 'pandas.core.series.Series'>\n",
      "     col2 col3\n",
      "row0   C1   D1\n",
      "row1   C2   D2\n",
      "row2   C3   D3\n",
      "row3   C4   D4\n",
      "row4   C5   D5 <class 'pandas.core.frame.DataFrame'>\n"
     ]
    }
   ],
   "source": [
    "print(df.iloc[2], type(df.iloc[2]))\n",
    "print(df.iloc[:,2],type(df.iloc[:,2])) #一次元はシリーズ\n",
    "print(df.iloc[:,2:4],type(df.iloc[:,2:4]))#二次元はデータフレーム\n"
   ]
  },
  {
   "cell_type": "code",
   "execution_count": 24,
   "metadata": {},
   "outputs": [
    {
     "name": "stdout",
     "output_type": "stream",
     "text": [
      "     col0 col1 col2 col3\n",
      "row0   A1   B1   C1   D1\n",
      "row1   A2   Y8   Z6   D2\n",
      "row2   A3   Y8   Z7   D3\n",
      "row3   W5   W6   x9   D4\n",
      "row4   W7   W8   C5   D5\n"
     ]
    }
   ],
   "source": [
    "#書き換え\n",
    "df.at['row3', 'col2'] = \"x9\"\n",
    "df.loc[['row1','row2'], 'col1'] = \"Y8\"\n",
    "df.loc[['row1','row2'], 'col2'] = [\"Z6\", \"Z7\"]\n",
    "df.loc[['row3','row4'],['col0','col1']] = [[\"W5\", \"W6\"],[\"W7\", \"W8\"]]\n",
    "print(df)"
   ]
  },
  {
   "cell_type": "code",
   "execution_count": 49,
   "metadata": {},
   "outputs": [
    {
     "name": "stdout",
     "output_type": "stream",
     "text": [
      "         col0 col1 col2 col3\n",
      "row_name                    \n",
      "row0       A1   B1   C1   D1\n",
      "row1       A2   B2   C2   D2\n",
      "row2       A3   B3   C3   D3\n",
      "row3       A4   B4   C4   D4\n",
      "row4       A5   B5   C5   D5\n",
      "         col1 col2 col3\n",
      "row_name               \n",
      "row2       B3   C3   D3\n",
      "         col1 col2 col3\n",
      "row_name               \n",
      "row2       B3   C3   D3\n",
      "row4       B5   C5   D5\n"
     ]
    }
   ],
   "source": [
    "#条件指定に式を入れる\n",
    "df = pd.read_csv('test_set_index.csv', encoding='utf-8')\n",
    "df.set_index('row_name', inplace=True)\n",
    "print(df)\n",
    "print(df.loc[df['col0']=='A3', 'col1':'col3']) #ここ\n",
    "print(df.loc[df['col0'].isin(['A3','A5']), 'col1':'col3'])\n"
   ]
  },
  {
   "attachments": {},
   "cell_type": "markdown",
   "metadata": {},
   "source": [
    "## 自分でデータフレームを作ろう"
   ]
  },
  {
   "cell_type": "code",
   "execution_count": 36,
   "metadata": {},
   "outputs": [
    {
     "name": "stdout",
     "output_type": "stream",
     "text": [
      "     name  age\n",
      "id            \n",
      "1   taro1   10\n",
      "2   taro2   20\n",
      "3   taro3   30\n",
      "4   taro4   40\n",
      "5   taro5   50\n"
     ]
    }
   ],
   "source": [
    "#empty dataframe\n",
    "cols = ['id', 'name', 'age']\n",
    "df = pd.DataFrame(columns = cols)\n",
    "df.set_index('id', inplace=True)\n",
    "# df = df.append({'id': 1,'name': 'taro', 'age': 20}, ignore_index=True)\n",
    "for i in range(1, 6):\n",
    "    df.loc[i] = ['taro' + str(i), i*10]\n",
    "\n",
    "\n",
    "print(df)"
   ]
  },
  {
   "attachments": {},
   "cell_type": "markdown",
   "metadata": {},
   "source": [
    "### 練習問題"
   ]
  },
  {
   "cell_type": "code",
   "execution_count": 53,
   "metadata": {},
   "outputs": [
    {
     "data": {
      "text/html": [
       "<div>\n",
       "<style scoped>\n",
       "    .dataframe tbody tr th:only-of-type {\n",
       "        vertical-align: middle;\n",
       "    }\n",
       "\n",
       "    .dataframe tbody tr th {\n",
       "        vertical-align: top;\n",
       "    }\n",
       "\n",
       "    .dataframe thead th {\n",
       "        text-align: right;\n",
       "    }\n",
       "</style>\n",
       "<table border=\"1\" class=\"dataframe\">\n",
       "  <thead>\n",
       "    <tr style=\"text-align: right;\">\n",
       "      <th></th>\n",
       "      <th>Satisfied</th>\n",
       "      <th>Pclass</th>\n",
       "      <th>Sex</th>\n",
       "      <th>Name</th>\n",
       "      <th>Age</th>\n",
       "      <th>SibSp</th>\n",
       "      <th>Parch</th>\n",
       "      <th>Ticket</th>\n",
       "      <th>Fare</th>\n",
       "      <th>Cabin</th>\n",
       "      <th>Embarked</th>\n",
       "    </tr>\n",
       "    <tr>\n",
       "      <th>PassengerId</th>\n",
       "      <th></th>\n",
       "      <th></th>\n",
       "      <th></th>\n",
       "      <th></th>\n",
       "      <th></th>\n",
       "      <th></th>\n",
       "      <th></th>\n",
       "      <th></th>\n",
       "      <th></th>\n",
       "      <th></th>\n",
       "      <th></th>\n",
       "    </tr>\n",
       "  </thead>\n",
       "  <tbody>\n",
       "    <tr>\n",
       "      <th>1</th>\n",
       "      <td>0</td>\n",
       "      <td>3</td>\n",
       "      <td>male</td>\n",
       "      <td>Sato, Mr. Ren</td>\n",
       "      <td>21.0</td>\n",
       "      <td>1</td>\n",
       "      <td>0</td>\n",
       "      <td>A/5 211711</td>\n",
       "      <td>870.000</td>\n",
       "      <td>NaN</td>\n",
       "      <td>Tokyo</td>\n",
       "    </tr>\n",
       "    <tr>\n",
       "      <th>2</th>\n",
       "      <td>1</td>\n",
       "      <td>1</td>\n",
       "      <td>female</td>\n",
       "      <td>Suzuki, Mrs. Himari</td>\n",
       "      <td>37.0</td>\n",
       "      <td>1</td>\n",
       "      <td>0</td>\n",
       "      <td>PC 175991</td>\n",
       "      <td>8553.996</td>\n",
       "      <td>C85</td>\n",
       "      <td>Osaka</td>\n",
       "    </tr>\n",
       "    <tr>\n",
       "      <th>3</th>\n",
       "      <td>1</td>\n",
       "      <td>3</td>\n",
       "      <td>female</td>\n",
       "      <td>Tanaka, Miss. Mei</td>\n",
       "      <td>25.0</td>\n",
       "      <td>0</td>\n",
       "      <td>0</td>\n",
       "      <td>STON/O2. 31012821</td>\n",
       "      <td>951.000</td>\n",
       "      <td>NaN</td>\n",
       "      <td>NaN</td>\n",
       "    </tr>\n",
       "    <tr>\n",
       "      <th>4</th>\n",
       "      <td>1</td>\n",
       "      <td>1</td>\n",
       "      <td>female</td>\n",
       "      <td>Ito, Mrs. Riko</td>\n",
       "      <td>34.0</td>\n",
       "      <td>1</td>\n",
       "      <td>0</td>\n",
       "      <td>227606</td>\n",
       "      <td>6372.000</td>\n",
       "      <td>C123</td>\n",
       "      <td>Tokyo</td>\n",
       "    </tr>\n",
       "    <tr>\n",
       "      <th>5</th>\n",
       "      <td>0</td>\n",
       "      <td>3</td>\n",
       "      <td>male</td>\n",
       "      <td>Takahashi, Mr. Haruto</td>\n",
       "      <td>34.0</td>\n",
       "      <td>0</td>\n",
       "      <td>0</td>\n",
       "      <td>746900</td>\n",
       "      <td>966.000</td>\n",
       "      <td>NaN</td>\n",
       "      <td>Tokyo</td>\n",
       "    </tr>\n",
       "  </tbody>\n",
       "</table>\n",
       "</div>"
      ],
      "text/plain": [
       "             Satisfied  Pclass     Sex                   Name   Age  SibSp  \\\n",
       "PassengerId                                                                  \n",
       "1                    0       3    male          Sato, Mr. Ren  21.0      1   \n",
       "2                    1       1  female    Suzuki, Mrs. Himari  37.0      1   \n",
       "3                    1       3  female      Tanaka, Miss. Mei  25.0      0   \n",
       "4                    1       1  female         Ito, Mrs. Riko  34.0      1   \n",
       "5                    0       3    male  Takahashi, Mr. Haruto  34.0      0   \n",
       "\n",
       "             Parch             Ticket      Fare Cabin Embarked  \n",
       "PassengerId                                                     \n",
       "1                0         A/5 211711   870.000   NaN    Tokyo  \n",
       "2                0          PC 175991  8553.996   C85    Osaka  \n",
       "3                0  STON/O2. 31012821   951.000   NaN      NaN  \n",
       "4                0             227606  6372.000  C123    Tokyo  \n",
       "5                0             746900   966.000   NaN    Tokyo  "
      ]
     },
     "execution_count": 53,
     "metadata": {},
     "output_type": "execute_result"
    }
   ],
   "source": [
    "df = pd.read_csv('pandas_train_mini.csv', index_col=0)\n",
    "df.head()"
   ]
  },
  {
   "cell_type": "code",
   "execution_count": 59,
   "metadata": {},
   "outputs": [
    {
     "data": {
      "text/html": [
       "<div>\n",
       "<style scoped>\n",
       "    .dataframe tbody tr th:only-of-type {\n",
       "        vertical-align: middle;\n",
       "    }\n",
       "\n",
       "    .dataframe tbody tr th {\n",
       "        vertical-align: top;\n",
       "    }\n",
       "\n",
       "    .dataframe thead th {\n",
       "        text-align: right;\n",
       "    }\n",
       "</style>\n",
       "<table border=\"1\" class=\"dataframe\">\n",
       "  <thead>\n",
       "    <tr style=\"text-align: right;\">\n",
       "      <th></th>\n",
       "      <th>Satisfied</th>\n",
       "      <th>Pclass</th>\n",
       "      <th>Sex</th>\n",
       "      <th>Name</th>\n",
       "      <th>Age</th>\n",
       "    </tr>\n",
       "    <tr>\n",
       "      <th>PassengerId</th>\n",
       "      <th></th>\n",
       "      <th></th>\n",
       "      <th></th>\n",
       "      <th></th>\n",
       "      <th></th>\n",
       "    </tr>\n",
       "  </thead>\n",
       "  <tbody>\n",
       "    <tr>\n",
       "      <th>4</th>\n",
       "      <td>1</td>\n",
       "      <td>1</td>\n",
       "      <td>female</td>\n",
       "      <td>Ito, Mrs. Riko</td>\n",
       "      <td>34.0</td>\n",
       "    </tr>\n",
       "    <tr>\n",
       "      <th>5</th>\n",
       "      <td>0</td>\n",
       "      <td>3</td>\n",
       "      <td>male</td>\n",
       "      <td>Takahashi, Mr. Haruto</td>\n",
       "      <td>34.0</td>\n",
       "    </tr>\n",
       "    <tr>\n",
       "      <th>7</th>\n",
       "      <td>0</td>\n",
       "      <td>1</td>\n",
       "      <td>male</td>\n",
       "      <td>Yamamoto, Mr. Itsuki</td>\n",
       "      <td>53.0</td>\n",
       "    </tr>\n",
       "    <tr>\n",
       "      <th>14</th>\n",
       "      <td>0</td>\n",
       "      <td>3</td>\n",
       "      <td>male</td>\n",
       "      <td>Yamaguchi, Mr. Hiroto</td>\n",
       "      <td>38.0</td>\n",
       "    </tr>\n",
       "    <tr>\n",
       "      <th>16</th>\n",
       "      <td>1</td>\n",
       "      <td>2</td>\n",
       "      <td>female</td>\n",
       "      <td>Inoue, Mrs. Kotone</td>\n",
       "      <td>54.0</td>\n",
       "    </tr>\n",
       "  </tbody>\n",
       "</table>\n",
       "</div>"
      ],
      "text/plain": [
       "             Satisfied  Pclass     Sex                   Name   Age\n",
       "PassengerId                                                        \n",
       "4                    1       1  female         Ito, Mrs. Riko  34.0\n",
       "5                    0       3    male  Takahashi, Mr. Haruto  34.0\n",
       "7                    0       1    male   Yamamoto, Mr. Itsuki  53.0\n",
       "14                   0       3    male  Yamaguchi, Mr. Hiroto  38.0\n",
       "16                   1       2  female     Inoue, Mrs. Kotone  54.0"
      ]
     },
     "execution_count": 59,
     "metadata": {},
     "output_type": "execute_result"
    }
   ],
   "source": [
    "df_e = df.loc[(df['Embarked']=='Tokyo') & (df['Age'] >= 30), 'Satisfied':'Age'] #ここ\n",
    "df_e.head()"
   ]
  }
 ],
 "metadata": {
  "kernelspec": {
   "display_name": ".venv",
   "language": "python",
   "name": "python3"
  },
  "language_info": {
   "codemirror_mode": {
    "name": "ipython",
    "version": 3
   },
   "file_extension": ".py",
   "mimetype": "text/x-python",
   "name": "python",
   "nbconvert_exporter": "python",
   "pygments_lexer": "ipython3",
   "version": "3.11.1"
  },
  "orig_nbformat": 4,
  "vscode": {
   "interpreter": {
    "hash": "ff82a638d3cd0e919dd0937da27591e27aa4e682df7daf8be57ecd65a6e0e6dd"
   }
  }
 },
 "nbformat": 4,
 "nbformat_minor": 2
}
