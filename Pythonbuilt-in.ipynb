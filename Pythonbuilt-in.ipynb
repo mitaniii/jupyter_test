{
 "cells": [
  {
   "attachments": {},
   "cell_type": "markdown",
   "metadata": {},
   "source": [
    "# 組み込み関数"
   ]
  },
  {
   "cell_type": "code",
   "execution_count": 11,
   "metadata": {},
   "outputs": [
    {
     "name": "stdout",
     "output_type": "stream",
     "text": [
      "140639236174312\n"
     ]
    }
   ],
   "source": [
    "val = 10\n",
    "print(id(val))"
   ]
  },
  {
   "cell_type": "code",
   "execution_count": 12,
   "metadata": {},
   "outputs": [
    {
     "name": "stdout",
     "output_type": "stream",
     "text": [
      "140639236174344\n"
     ]
    }
   ],
   "source": [
    "val = 11\n",
    "print(id(val))"
   ]
  },
  {
   "cell_type": "code",
   "execution_count": 13,
   "metadata": {},
   "outputs": [
    {
     "name": "stdout",
     "output_type": "stream",
     "text": [
      "140639236174312\n"
     ]
    }
   ],
   "source": [
    "print(id(10))"
   ]
  },
  {
   "cell_type": "code",
   "execution_count": 14,
   "metadata": {},
   "outputs": [
    {
     "name": "stdout",
     "output_type": "stream",
     "text": [
      "False\n",
      "True\n",
      "True\n"
     ]
    },
    {
     "name": "stderr",
     "output_type": "stream",
     "text": [
      "<>:3: SyntaxWarning: \"is\" with a literal. Did you mean \"==\"?\n",
      "<>:3: SyntaxWarning: \"is\" with a literal. Did you mean \"==\"?\n",
      "/tmp/ipykernel_1179/3291403216.py:3: SyntaxWarning: \"is\" with a literal. Did you mean \"==\"?\n",
      "  print(val is 11) #id(val) == id(11)　オブジェクトが同じかどうか\n"
     ]
    }
   ],
   "source": [
    "print(val == 10)\n",
    "print(val == 11)\n",
    "print(val is 11) #id(val) == id(11)　オブジェクトが同じかどうか"
   ]
  },
  {
   "cell_type": "code",
   "execution_count": 15,
   "metadata": {},
   "outputs": [
    {
     "name": "stdout",
     "output_type": "stream",
     "text": [
      "b'abcde' <class 'bytes'> 140639172095712\n",
      "b'abcde' <class 'bytes'> 140639172099408\n"
     ]
    }
   ],
   "source": [
    "str = 'abcde'\n",
    "en = str.encode('utf-8')\n",
    "print(en, type(en), id(en)) # b'abcde' <class 'bytes'>\n",
    "\n",
    "by = bytes(str, encoding='utf-8')\n",
    "print(by, type(by), id(by)) # b'abcde' <class 'bytes'>"
   ]
  },
  {
   "cell_type": "code",
   "execution_count": 16,
   "metadata": {},
   "outputs": [
    {
     "name": "stdout",
     "output_type": "stream",
     "text": [
      "b'abcde' <class 'bytes'> 140639172094128\n",
      "b'abcde' <class 'bytes'> 140639172094128\n",
      "5\n",
      "97 a\n",
      "98 b\n",
      "99 c\n",
      "100 d\n",
      "101 e\n",
      "97\n"
     ]
    }
   ],
   "source": [
    "b = b'abcde'\n",
    "print(b, type(b), id(b))\n",
    "b_by = bytes(b)\n",
    "print(b_by, type(b_by), id(b_by))\n",
    "print(len(b_by))\n",
    "for i in b_by:\n",
    "    print(i, chr(i))\n",
    "\n",
    "# b_by[0] = 98 immutable\n",
    "print(b_by[0]) #97"
   ]
  },
  {
   "cell_type": "code",
   "execution_count": 17,
   "metadata": {},
   "outputs": [
    {
     "name": "stdout",
     "output_type": "stream",
     "text": [
      "b'abcde' <class 'bytes'>\n",
      "bytearray(b'abcde') <class 'bytearray'> 140639108529776\n",
      "bytearray(b'bcdef') <class 'bytearray'> 140639108529776\n"
     ]
    }
   ],
   "source": [
    "b = b'abcde'\n",
    "print(b, type(b))\n",
    "ba = bytearray(b)\n",
    "print(ba, type(ba), id(ba))\n",
    "\n",
    "\n",
    "for i in range(len(ba)):\n",
    "    ba[i] += 1 # mutable\n",
    "print(ba, type(ba), id(ba))"
   ]
  },
  {
   "cell_type": "code",
   "execution_count": 18,
   "metadata": {},
   "outputs": [
    {
     "name": "stdout",
     "output_type": "stream",
     "text": [
      "CPU times: user 11.2 ms, sys: 31.3 ms, total: 42.6 ms\n",
      "Wall time: 41.7 ms\n",
      "CPU times: user 1.91 ms, sys: 783 µs, total: 2.69 ms\n",
      "Wall time: 2.71 ms\n"
     ]
    }
   ],
   "source": [
    "a = b'a' * int(1e9)\n",
    "\n",
    "%time b = a[:int(1e8)]\n",
    "\n",
    "mv = memoryview(a)\n",
    "%time c = mv[:int(1e8)]"
   ]
  },
  {
   "cell_type": "code",
   "execution_count": 19,
   "metadata": {},
   "outputs": [
    {
     "name": "stdout",
     "output_type": "stream",
     "text": [
      "2023-02-22 12:44:09.065257 <class 'datetime.datetime'> <class 'datetime.datetime'>\n"
     ]
    }
   ],
   "source": [
    "import datetime\n",
    "now = datetime.datetime.now()\n",
    "print(now, type(now), now.__class__)\n"
   ]
  },
  {
   "cell_type": "code",
   "execution_count": 20,
   "metadata": {},
   "outputs": [
    {
     "ename": "TypeError",
     "evalue": "'str' object is not callable",
     "output_type": "error",
     "traceback": [
      "\u001b[0;31m---------------------------------------------------------------------------\u001b[0m",
      "\u001b[0;31mTypeError\u001b[0m                                 Traceback (most recent call last)",
      "Cell \u001b[0;32mIn[20], line 1\u001b[0m\n\u001b[0;32m----> 1\u001b[0m \u001b[39mprint\u001b[39m(\u001b[39mtype\u001b[39m(now), \u001b[39mtype\u001b[39m(\u001b[39mstr\u001b[39;49m(now)))\n\u001b[1;32m      3\u001b[0m \u001b[39mprint\u001b[39m(\u001b[39m'\u001b[39m\u001b[39manswer:\u001b[39m\u001b[39m'\u001b[39m \u001b[39m+\u001b[39m \u001b[39mstr\u001b[39m(\u001b[39m100\u001b[39m)) \u001b[39m#文字列にすることで結合できる\u001b[39;00m\n\u001b[1;32m      4\u001b[0m \u001b[39mprint\u001b[39m(\u001b[39m'\u001b[39m\u001b[39manswer:\u001b[39m\u001b[39m'\u001b[39m \u001b[39m+\u001b[39m \u001b[39mstr\u001b[39m(\u001b[39m'\u001b[39m\u001b[39mx\u001b[39m\u001b[39m'\u001b[39m))\n",
      "\u001b[0;31mTypeError\u001b[0m: 'str' object is not callable"
     ]
    }
   ],
   "source": [
    "print(type(now), type(str(now)))\n",
    "\n",
    "print('answer:' + str(100)) #文字列にすることで結合できる\n",
    "print('answer:' + str('x'))"
   ]
  },
  {
   "cell_type": "code",
   "execution_count": null,
   "metadata": {},
   "outputs": [
    {
     "name": "stdout",
     "output_type": "stream",
     "text": [
      "10\n",
      "100\n",
      "10\n",
      "4\n"
     ]
    }
   ],
   "source": [
    "print(int(10.5)) #整数になる\n",
    "print(int('100'))\n",
    "# print(int('x')) #変換できない\n",
    "print(int('A', base=16)) #16進数です\n",
    "print(int('100', 2)) #実は2進数です\n"
   ]
  },
  {
   "cell_type": "code",
   "execution_count": null,
   "metadata": {},
   "outputs": [
    {
     "name": "stdout",
     "output_type": "stream",
     "text": [
      "0.0\n",
      "10.0\n",
      "-10.0\n"
     ]
    }
   ],
   "source": [
    "print(float(0)) #小数点\n",
    "print(float('10'))\n",
    "print(float(-10))"
   ]
  },
  {
   "cell_type": "code",
   "execution_count": null,
   "metadata": {},
   "outputs": [
    {
     "name": "stdout",
     "output_type": "stream",
     "text": [
      "10\n",
      "10\n"
     ]
    }
   ],
   "source": [
    "print(abs(10))\n",
    "print(abs(-10)) #アブソリュート！"
   ]
  },
  {
   "cell_type": "code",
   "execution_count": null,
   "metadata": {},
   "outputs": [
    {
     "name": "stdout",
     "output_type": "stream",
     "text": [
      "(-7+5j) <class 'complex'>\n"
     ]
    }
   ],
   "source": [
    "cpl = complex(-7, 5)\n",
    "print(cpl, type(cpl))"
   ]
  },
  {
   "cell_type": "code",
   "execution_count": null,
   "metadata": {},
   "outputs": [
    {
     "name": "stdout",
     "output_type": "stream",
     "text": [
      "0b1010 <class 'str'>\n",
      "00001010\n",
      "00001010\n"
     ]
    }
   ],
   "source": [
    "print(bin(10), type(bin(10))) #2進数\n",
    "print(bin(10)[2:].zfill(8)) #8桁\n",
    "print(format(10, '08b')) #formatでもできるぅ"
   ]
  },
  {
   "cell_type": "code",
   "execution_count": null,
   "metadata": {},
   "outputs": [
    {
     "name": "stdout",
     "output_type": "stream",
     "text": [
      "0o12 <class 'str'>\n",
      "0012\n",
      "0012\n"
     ]
    }
   ],
   "source": [
    "print(oct(10), type(oct(10))) #8進数\n",
    "print(oct(10)[2:].zfill(4)) #4桁\n",
    "print(format(10, '04o')) #formatでもできるぅ"
   ]
  },
  {
   "cell_type": "code",
   "execution_count": null,
   "metadata": {},
   "outputs": [
    {
     "name": "stdout",
     "output_type": "stream",
     "text": [
      "0xa <class 'str'>\n",
      "000A\n",
      "000a\n"
     ]
    }
   ],
   "source": [
    "print(hex(10), type(hex(10))) #16進数\n",
    "print(hex(10)[2:].zfill(4).upper()) #4桁\n",
    "print(format(10, '04x')) #formatでもできるぅ\n",
    "print(format(10, '04X')) #大文字で出力も大文字になる"
   ]
  },
  {
   "cell_type": "code",
   "execution_count": null,
   "metadata": {},
   "outputs": [
    {
     "name": "stdout",
     "output_type": "stream",
     "text": [
      "97 65 12354 12450 12449 128640\n",
      "a A あ ア ァ 🚀\n",
      "😜 😝 😞 😟 😠 😡 😢 😣 😤 😥 😦 😧 😨 😩 😪 😫 😬 😭 😮 😯 "
     ]
    }
   ],
   "source": [
    "#文字コードへ変換\n",
    "print(ord('a'), ord('A'), ord('あ'), ord('ア'), ord('ァ'), ord('🚀'))\n",
    "#逆\n",
    "print(chr(97), chr(65), chr(12354), chr(12450), chr(12449), chr(128640))\n",
    "\n",
    "for i in range(20):\n",
    "    print(chr(128540 + i),end=' ')"
   ]
  },
  {
   "cell_type": "code",
   "execution_count": null,
   "metadata": {},
   "outputs": [
    {
     "name": "stdout",
     "output_type": "stream",
     "text": [
      "True\n",
      "True False\n",
      "0 False\n",
      "0.0 False\n",
      "0j False\n",
      "'' False\n",
      "[] False\n",
      "() False\n",
      "{} False\n",
      "None False\n"
     ]
    }
   ],
   "source": [
    "print(10 < 20) #True\n",
    "print(bool(1), bool(0))\n",
    "\n",
    "for f in [0, 0.0, 0j, '', [], (), {}, None]:\n",
    "    print(repr(f), bool(f)) #false達"
   ]
  },
  {
   "cell_type": "code",
   "execution_count": 39,
   "metadata": {},
   "outputs": [
    {
     "name": "stdout",
     "output_type": "stream",
     "text": [
      "140638745942864 <class '__main__.MyClass'> <class '__main__.MyClass'> MyClass\n",
      "MyClassobject at0x7fe9027e5b50 0x7fe9027e5b50\n",
      "<__main__.MyClass object at 0x7fe9027e5b50>\n"
     ]
    }
   ],
   "source": [
    "#__〇〇__(特殊メソッド)\n",
    "class MyClass:\n",
    "    def __str__(self):\n",
    "        return self.__class__.__name__ + 'object at' + hex(id(self))\n",
    "\n",
    "me = MyClass()\n",
    "print(id(me), type(me), me.__class__, me.__class__.__name__)\n",
    "\n",
    "print(me, hex(id(me)))\n",
    "# print(str(me))\n",
    "print(repr(me))"
   ]
  },
  {
   "attachments": {},
   "cell_type": "markdown",
   "metadata": {},
   "source": [
    "### リスト関数"
   ]
  },
  {
   "cell_type": "code",
   "execution_count": 7,
   "metadata": {},
   "outputs": [
    {
     "name": "stdout",
     "output_type": "stream",
     "text": [
      "[]\n",
      "['a', 'b', 'c', 'd', 'e']\n",
      "[1, 2, 3]\n",
      "[0, 1, 2, 3, 4, 5, 6, 7, 8, 9]\n",
      "[5, 4, 3, 2, 1]\n",
      "['a', 'b', 'c']\n",
      "[1, 2, 3]\n"
     ]
    }
   ],
   "source": [
    "#リスト\n",
    "print(list()) # []\n",
    "print(list('abcde')) # ['a', 'b', 'c', 'd', 'e']\n",
    "#タプル\n",
    "t = (1, 2, 3)\n",
    "print(list(t)) # タプルからリストへ変更\n",
    "print(list(range(10)))\n",
    "print(list(range(5, 0, -1))) # [5, 4, 3, 2, 1]\n",
    "#ディクショナリ\n",
    "d = {'a':1, 'b':2, 'c':3}\n",
    "print(list(d)) # list (key)\n",
    "print(list(d.values())) # list (value)"
   ]
  },
  {
   "cell_type": "code",
   "execution_count": 14,
   "metadata": {},
   "outputs": [
    {
     "name": "stdout",
     "output_type": "stream",
     "text": [
      "()\n",
      "('a', 'b', 'c', 'd', 'e')\n",
      "(1, 2, 3)\n",
      "(0, 1, 2, 3, 4, 5, 6, 7, 8, 9)\n",
      "('a', 'b', 'c')\n",
      "(1, 2, 3)\n"
     ]
    }
   ],
   "source": [
    "#タプル リストとほぼ一緒\n",
    "print(tuple()) # ()\n",
    "print(tuple('abcde')) # ('a', 'b', 'c', 'd', 'e')\n",
    "l = list(range(1, 4))\n",
    "print(tuple(l)) # リストをタプルへ\n",
    "print(tuple(range(10)))\n",
    "print(tuple(d))\n",
    "print(tuple(d.values()))\n"
   ]
  },
  {
   "cell_type": "code",
   "execution_count": 3,
   "metadata": {},
   "outputs": [
    {
     "name": "stdout",
     "output_type": "stream",
     "text": [
      "{}\n",
      "{'a': 10, 'b': 20, 'c': 30}\n",
      "{'a': 10, 'b': 20, 'c': 30}\n"
     ]
    }
   ],
   "source": [
    "# ディクショナリー\n",
    "print(dict())\n",
    "print(dict(a=10, b=20, c=30)) # {'a': 10, 'b': 20, 'c': 30}\n",
    "\n",
    "key_list = ['a', 'b', 'c']\n",
    "val_list = [10, 20, 30]\n",
    "# dict = {}\n",
    "# for i in range(len(key_list)):\n",
    "#     dict[key_list[i]] = val_list[i]\n",
    "\n",
    "d = dict(zip(key_list, val_list))\n",
    "print(d)"
   ]
  },
  {
   "cell_type": "code",
   "execution_count": 7,
   "metadata": {},
   "outputs": [
    {
     "name": "stdout",
     "output_type": "stream",
     "text": [
      "set()\n",
      "{'d', 'c', 'b', 'a', 'e'}\n",
      "{10, 20, 30}\n"
     ]
    }
   ],
   "source": [
    "# セット\n",
    "print(set())\n",
    "print(set('abcdeabcbdbad')) # 重複しない\n",
    "print(set([10, 20, 30, 20, 10, 30]))\n",
    "\n"
   ]
  },
  {
   "cell_type": "code",
   "execution_count": 12,
   "metadata": {},
   "outputs": [
    {
     "name": "stdout",
     "output_type": "stream",
     "text": [
      "{'a', 'd', 'b', 'c'} {'a', 'b', 'c'}\n",
      "{'d', 'c', 'a', 'b'}\n",
      "{'a', 'b', 'c'}\n",
      "{'d'}\n",
      "{'d', 'b', 'x', 'a'}\n"
     ]
    }
   ],
   "source": [
    "a = set('abcdbc')\n",
    "b = set('abc')\n",
    "print(a, b)\n",
    "\n",
    "print(a | b) # OR\n",
    "print(a & b) # AND\n",
    "print(a - b) # NOT\n",
    "\n",
    "a.add('x')\n",
    "a.remove('c')\n",
    "print(a)"
   ]
  },
  {
   "cell_type": "code",
   "execution_count": 15,
   "metadata": {},
   "outputs": [
    {
     "name": "stdout",
     "output_type": "stream",
     "text": [
      "frozenset({'d', 'c', 'b', 'a', 'e'})\n"
     ]
    }
   ],
   "source": [
    "# frozenset 値の変更ができないセット\n",
    "f = frozenset('abcddcbaeb')\n",
    "print(f)\n",
    "# f.add('x')"
   ]
  },
  {
   "cell_type": "code",
   "execution_count": 19,
   "metadata": {},
   "outputs": [
    {
     "name": "stdout",
     "output_type": "stream",
     "text": [
      "0 d\n",
      "1 c\n",
      "2 b\n",
      "3 a\n",
      "4 e\n"
     ]
    }
   ],
   "source": [
    "for i,str in enumerate(f):\n",
    "    print(i, str)"
   ]
  },
  {
   "cell_type": "code",
   "execution_count": 21,
   "metadata": {},
   "outputs": [
    {
     "name": "stdout",
     "output_type": "stream",
     "text": [
      "[10, 9, 8, 7, 6, 5, 4, 3, 2, 1]\n",
      "[]\n"
     ]
    }
   ],
   "source": [
    "print(list(range(10, 0, -1))) #逆順のリスト\n",
    "print(list(range(10, 0, 1))) #空\n",
    "\n"
   ]
  },
  {
   "attachments": {},
   "cell_type": "markdown",
   "metadata": {},
   "source": [
    "### スライス"
   ]
  },
  {
   "cell_type": "code",
   "execution_count": 7,
   "metadata": {},
   "outputs": [
    {
     "name": "stdout",
     "output_type": "stream",
     "text": [
      "['a', 'b', 'c', 'd', 'e', 'f', 'g']\n",
      "['d', 'e', 'f']\n",
      "['d', 'e', 'f']\n",
      "['b', 'd', 'f']\n"
     ]
    }
   ],
   "source": [
    "alphabet = list('abcdefg')\n",
    "print(alphabet)\n",
    "\n",
    "print(alphabet[3:6])\n",
    "\n",
    "s1 = slice(3, 6) #スライスオブジェクト\n",
    "print(alphabet[s1])\n",
    "\n",
    "s2 = slice(1, 6, 2) # ステップあり\n",
    "print(alphabet[s2])"
   ]
  },
  {
   "attachments": {},
   "cell_type": "markdown",
   "metadata": {},
   "source": [
    "### zip関数"
   ]
  },
  {
   "cell_type": "code",
   "execution_count": 11,
   "metadata": {},
   "outputs": [
    {
     "name": "stdout",
     "output_type": "stream",
     "text": [
      "a 11\n",
      "b 12\n",
      "c 13\n",
      "{'a': 11, 'b': 12, 'c': 13}\n",
      "{'a': 11, 'b': 12, 'c': 13}\n"
     ]
    }
   ],
   "source": [
    "# zip 複数のリストをまとめて、同時に処理できる\n",
    "l1 = ['a','b','c']\n",
    "l2 = [11, 12, 13]\n",
    "d = {}\n",
    "\n",
    "for i,j in zip(l1, l2):\n",
    "    print(i,j)\n",
    "    d[i] = j\n",
    "print(d)\n",
    "\n",
    "print(dict(zip(l1, l2))) #dictで上の処理ができる"
   ]
  }
 ],
 "metadata": {
  "kernelspec": {
   "display_name": ".venv",
   "language": "python",
   "name": "python3"
  },
  "language_info": {
   "codemirror_mode": {
    "name": "ipython",
    "version": 3
   },
   "file_extension": ".py",
   "mimetype": "text/x-python",
   "name": "python",
   "nbconvert_exporter": "python",
   "pygments_lexer": "ipython3",
   "version": "3.11.1"
  },
  "orig_nbformat": 4,
  "vscode": {
   "interpreter": {
    "hash": "ff82a638d3cd0e919dd0937da27591e27aa4e682df7daf8be57ecd65a6e0e6dd"
   }
  }
 },
 "nbformat": 4,
 "nbformat_minor": 2
}
