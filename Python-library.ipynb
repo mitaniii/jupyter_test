{
 "cells": [
  {
   "cell_type": "markdown",
   "metadata": {},
   "source": [
    "# 標準ライブラリ"
   ]
  },
  {
   "cell_type": "code",
   "execution_count": 1,
   "metadata": {},
   "outputs": [
    {
     "name": "stdout",
     "output_type": "stream",
     "text": [
      "/home/cybermissions/development/python/jupyter_test\n",
      "/home/cybermissions/development/python\n",
      "/home/cybermissions/development\n",
      "/home/cybermissions\n",
      "/home\n"
     ]
    }
   ],
   "source": [
    "import os\n",
    "# os.chdir(\"..\")\n",
    "print(os.getcwd())\n",
    "# print(dir(os))\n",
    "for i in range(4):\n",
    "    os.chdir(\"..\")\n",
    "    print(os.getcwd())\n",
    "\n",
    "os.chdir(\"/home/cybermissions/development/python/jupyter_test\")"
   ]
  },
  {
   "cell_type": "code",
   "execution_count": 4,
   "metadata": {},
   "outputs": [
    {
     "data": {
      "text/plain": [
       "'ss/move.html'"
      ]
     },
     "execution_count": 4,
     "metadata": {},
     "output_type": "execute_result"
    }
   ],
   "source": [
    "import shutil #コピーする\n",
    "shutil.copyfile('test.html', 'copy.html')\n",
    "shutil.move('copy.html', 'ss/move.html') #変更と移動"
   ]
  },
  {
   "cell_type": "code",
   "execution_count": 10,
   "metadata": {},
   "outputs": [
    {
     "data": {
      "text/plain": [
       "['Python-library.ipynb',\n",
       " 'Python-list.ipynb',\n",
       " 'Python-set.ipynb',\n",
       " 'PythonShortCircuit.ipynb']"
      ]
     },
     "execution_count": 10,
     "metadata": {},
     "output_type": "execute_result"
    }
   ],
   "source": [
    "import glob\n",
    "glob.glob('Python*.ipynb')"
   ]
  },
  {
   "cell_type": "code",
   "execution_count": 11,
   "metadata": {},
   "outputs": [
    {
     "name": "stdout",
     "output_type": "stream",
     "text": [
      "['/home/cybermissions/development/python/jupyter_test/.venv/lib/python3.11/site-packages/ipykernel_launcher.py', '--ip=127.0.0.1', '--stdin=9013', '--control=9011', '--hb=9010', '--Session.signature_scheme=\"hmac-sha256\"', '--Session.key=b\"1e7e61b6-9dc9-4ae2-bca4-6cfa20437b6a\"', '--shell=9012', '--transport=\"tcp\"', '--iopub=9014', '--f=/home/cybermissions/.local/share/jupyter/runtime/kernel-v2-257g5zMMEZko2T6.json']\n"
     ]
    }
   ],
   "source": [
    "import sys #コマンドライン引数　arg.pyに書いてある\n",
    "print(sys.argv)"
   ]
  },
  {
   "cell_type": "code",
   "execution_count": 1,
   "metadata": {},
   "outputs": [
    {
     "name": "stderr",
     "output_type": "stream",
     "text": [
      "hello"
     ]
    },
    {
     "data": {
      "text/plain": [
       "5"
      ]
     },
     "execution_count": 1,
     "metadata": {},
     "output_type": "execute_result"
    }
   ],
   "source": [
    "import sys #エラーログ\n",
    "sys.stderr.write(\"hello\")"
   ]
  },
  {
   "cell_type": "code",
   "execution_count": 1,
   "metadata": {},
   "outputs": [
    {
     "data": {
      "text/plain": [
       "['foot', 'fell', 'fastest']"
      ]
     },
     "execution_count": 1,
     "metadata": {},
     "output_type": "execute_result"
    }
   ],
   "source": [
    "import re #文字のパターンマッチング\n",
    "re.findall(r'\\bf[a-z]*', 'which foot or hand fell fastest')"
   ]
  },
  {
   "cell_type": "code",
   "execution_count": 2,
   "metadata": {},
   "outputs": [
    {
     "data": {
      "text/plain": [
       "'cat in the hat'"
      ]
     },
     "execution_count": 2,
     "metadata": {},
     "output_type": "execute_result"
    }
   ],
   "source": [
    "re.sub(r'(\\b[a-z]+) \\1', r'\\1', 'cat in the the hat')"
   ]
  },
  {
   "cell_type": "code",
   "execution_count": 5,
   "metadata": {},
   "outputs": [
    {
     "name": "stdout",
     "output_type": "stream",
     "text": [
      "0.7071067811865476\n",
      "10.0\n"
     ]
    }
   ],
   "source": [
    "import math #数学\n",
    "print(math.cos(math.pi /4))\n",
    "print(math.log(1024, 2))\n",
    "\n"
   ]
  },
  {
   "cell_type": "code",
   "execution_count": 35,
   "metadata": {},
   "outputs": [
    {
     "name": "stdout",
     "output_type": "stream",
     "text": [
      "b\n",
      "[27, 12, 52, 77, 69, 53, 6, 15, 32, 72]\n",
      "0.9683536666136335\n",
      "3\n",
      "20\n"
     ]
    }
   ],
   "source": [
    "import random #ランダム\n",
    "print(random.choice(['a', 'b', 'c']))\n",
    "\n",
    "print(random.sample(range(100), 10))\n",
    "\n",
    "print(random.random()) #random flort(0, 1)\n",
    "print(random.randint(0, 10))\n",
    "print(random.randrange(10, 101, 10))"
   ]
  },
  {
   "cell_type": "code",
   "execution_count": 40,
   "metadata": {},
   "outputs": [
    {
     "name": "stdout",
     "output_type": "stream",
     "text": [
      "2023-02-14\n",
      "21\n"
     ]
    }
   ],
   "source": [
    "from datetime import date #日付と時刻\n",
    "now = date.today()\n",
    "print(now)\n",
    "\n",
    "birthday = date(2001, 12, 5)\n",
    "age = now - birthday\n",
    "print(age.days // 365)"
   ]
  },
  {
   "cell_type": "code",
   "execution_count": 43,
   "metadata": {},
   "outputs": [
    {
     "name": "stdout",
     "output_type": "stream",
     "text": [
      "2023-02-14 12:59:24.021319\n",
      "2023-02-15 12:59:24.021319\n"
     ]
    }
   ],
   "source": [
    "from datetime import datetime, timedelta\n",
    "now = datetime.today()\n",
    "print(now)\n",
    "\n",
    "print(now + timedelta(days=1))"
   ]
  }
 ],
 "metadata": {
  "kernelspec": {
   "display_name": ".venv",
   "language": "python",
   "name": "python3"
  },
  "language_info": {
   "codemirror_mode": {
    "name": "ipython",
    "version": 3
   },
   "file_extension": ".py",
   "mimetype": "text/x-python",
   "name": "python",
   "nbconvert_exporter": "python",
   "pygments_lexer": "ipython3",
   "version": "3.11.1"
  },
  "orig_nbformat": 4,
  "vscode": {
   "interpreter": {
    "hash": "ff82a638d3cd0e919dd0937da27591e27aa4e682df7daf8be57ecd65a6e0e6dd"
   }
  }
 },
 "nbformat": 4,
 "nbformat_minor": 2
}
