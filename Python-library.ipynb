{
 "cells": [
  {
   "cell_type": "markdown",
   "metadata": {},
   "source": [
    "# 標準ライブラリ"
   ]
  },
  {
   "cell_type": "code",
   "execution_count": 1,
   "metadata": {},
   "outputs": [
    {
     "name": "stdout",
     "output_type": "stream",
     "text": [
      "/home/cybermissions/development/python/jupyter_test\n",
      "/home/cybermissions/development/python\n",
      "/home/cybermissions/development\n",
      "/home/cybermissions\n",
      "/home\n"
     ]
    }
   ],
   "source": [
    "import os\n",
    "# os.chdir(\"..\")\n",
    "print(os.getcwd())\n",
    "# print(dir(os))\n",
    "for i in range(4):\n",
    "    os.chdir(\"..\")\n",
    "    print(os.getcwd())\n",
    "\n",
    "os.chdir(\"/home/cybermissions/development/python/jupyter_test\")"
   ]
  },
  {
   "cell_type": "code",
   "execution_count": 4,
   "metadata": {},
   "outputs": [
    {
     "data": {
      "text/plain": [
       "'ss/move.html'"
      ]
     },
     "execution_count": 4,
     "metadata": {},
     "output_type": "execute_result"
    }
   ],
   "source": [
    "import shutil #コピーする\n",
    "shutil.copyfile('test.html', 'copy.html')\n",
    "shutil.move('copy.html', 'ss/move.html') #変更と移動"
   ]
  },
  {
   "cell_type": "code",
   "execution_count": 10,
   "metadata": {},
   "outputs": [
    {
     "data": {
      "text/plain": [
       "['Python-library.ipynb',\n",
       " 'Python-list.ipynb',\n",
       " 'Python-set.ipynb',\n",
       " 'PythonShortCircuit.ipynb']"
      ]
     },
     "execution_count": 10,
     "metadata": {},
     "output_type": "execute_result"
    }
   ],
   "source": [
    "import glob\n",
    "glob.glob('Python*.ipynb')"
   ]
  },
  {
   "cell_type": "code",
   "execution_count": 11,
   "metadata": {},
   "outputs": [
    {
     "name": "stdout",
     "output_type": "stream",
     "text": [
      "['/home/cybermissions/development/python/jupyter_test/.venv/lib/python3.11/site-packages/ipykernel_launcher.py', '--ip=127.0.0.1', '--stdin=9013', '--control=9011', '--hb=9010', '--Session.signature_scheme=\"hmac-sha256\"', '--Session.key=b\"1e7e61b6-9dc9-4ae2-bca4-6cfa20437b6a\"', '--shell=9012', '--transport=\"tcp\"', '--iopub=9014', '--f=/home/cybermissions/.local/share/jupyter/runtime/kernel-v2-257g5zMMEZko2T6.json']\n"
     ]
    }
   ],
   "source": [
    "import sys #コマンドライン引数　arg.pyに書いてある\n",
    "print(sys.argv)"
   ]
  }
 ],
 "metadata": {
  "kernelspec": {
   "display_name": ".venv",
   "language": "python",
   "name": "python3"
  },
  "language_info": {
   "codemirror_mode": {
    "name": "ipython",
    "version": 3
   },
   "file_extension": ".py",
   "mimetype": "text/x-python",
   "name": "python",
   "nbconvert_exporter": "python",
   "pygments_lexer": "ipython3",
   "version": "3.11.1"
  },
  "orig_nbformat": 4,
  "vscode": {
   "interpreter": {
    "hash": "ff82a638d3cd0e919dd0937da27591e27aa4e682df7daf8be57ecd65a6e0e6dd"
   }
  }
 },
 "nbformat": 4,
 "nbformat_minor": 2
}
