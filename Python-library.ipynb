{
 "cells": [
  {
   "cell_type": "markdown",
   "metadata": {},
   "source": [
    "# 標準ライブラリ"
   ]
  },
  {
   "cell_type": "code",
   "execution_count": 1,
   "metadata": {},
   "outputs": [
    {
     "name": "stdout",
     "output_type": "stream",
     "text": [
      "/home/cybermissions/development/python/jupyter_test\n",
      "/home/cybermissions/development/python\n",
      "/home/cybermissions/development\n",
      "/home/cybermissions\n",
      "/home\n"
     ]
    }
   ],
   "source": [
    "import os\n",
    "# os.chdir(\"..\")\n",
    "print(os.getcwd())\n",
    "# print(dir(os))\n",
    "for i in range(4):\n",
    "    os.chdir(\"..\")\n",
    "    print(os.getcwd())\n",
    "\n",
    "os.chdir(\"/home/cybermissions/development/python/jupyter_test\")"
   ]
  },
  {
   "cell_type": "code",
   "execution_count": 4,
   "metadata": {},
   "outputs": [
    {
     "data": {
      "text/plain": [
       "'ss/move.html'"
      ]
     },
     "execution_count": 4,
     "metadata": {},
     "output_type": "execute_result"
    }
   ],
   "source": [
    "import shutil #コピーする\n",
    "shutil.copyfile('test.html', 'copy.html')\n",
    "shutil.move('copy.html', 'ss/move.html') #変更と移動"
   ]
  },
  {
   "cell_type": "code",
   "execution_count": 10,
   "metadata": {},
   "outputs": [
    {
     "data": {
      "text/plain": [
       "['Python-library.ipynb',\n",
       " 'Python-list.ipynb',\n",
       " 'Python-set.ipynb',\n",
       " 'PythonShortCircuit.ipynb']"
      ]
     },
     "execution_count": 10,
     "metadata": {},
     "output_type": "execute_result"
    }
   ],
   "source": [
    "import glob\n",
    "glob.glob('Python*.ipynb')"
   ]
  },
  {
   "cell_type": "code",
   "execution_count": 11,
   "metadata": {},
   "outputs": [
    {
     "name": "stdout",
     "output_type": "stream",
     "text": [
      "['/home/cybermissions/development/python/jupyter_test/.venv/lib/python3.11/site-packages/ipykernel_launcher.py', '--ip=127.0.0.1', '--stdin=9013', '--control=9011', '--hb=9010', '--Session.signature_scheme=\"hmac-sha256\"', '--Session.key=b\"1e7e61b6-9dc9-4ae2-bca4-6cfa20437b6a\"', '--shell=9012', '--transport=\"tcp\"', '--iopub=9014', '--f=/home/cybermissions/.local/share/jupyter/runtime/kernel-v2-257g5zMMEZko2T6.json']\n"
     ]
    }
   ],
   "source": [
    "import sys #コマンドライン引数　arg.pyに書いてある\n",
    "print(sys.argv)"
   ]
  },
  {
   "cell_type": "code",
   "execution_count": 1,
   "metadata": {},
   "outputs": [
    {
     "name": "stderr",
     "output_type": "stream",
     "text": [
      "hello"
     ]
    },
    {
     "data": {
      "text/plain": [
       "5"
      ]
     },
     "execution_count": 1,
     "metadata": {},
     "output_type": "execute_result"
    }
   ],
   "source": [
    "import sys #エラーログ\n",
    "sys.stderr.write(\"hello\")"
   ]
  },
  {
   "cell_type": "code",
   "execution_count": 1,
   "metadata": {},
   "outputs": [
    {
     "data": {
      "text/plain": [
       "['foot', 'fell', 'fastest']"
      ]
     },
     "execution_count": 1,
     "metadata": {},
     "output_type": "execute_result"
    }
   ],
   "source": [
    "import re #文字のパターンマッチング\n",
    "re.findall(r'\\bf[a-z]*', 'which foot or hand fell fastest')"
   ]
  },
  {
   "cell_type": "code",
   "execution_count": 2,
   "metadata": {},
   "outputs": [
    {
     "data": {
      "text/plain": [
       "'cat in the hat'"
      ]
     },
     "execution_count": 2,
     "metadata": {},
     "output_type": "execute_result"
    }
   ],
   "source": [
    "re.sub(r'(\\b[a-z]+) \\1', r'\\1', 'cat in the the hat')"
   ]
  },
  {
   "cell_type": "code",
   "execution_count": 5,
   "metadata": {},
   "outputs": [
    {
     "name": "stdout",
     "output_type": "stream",
     "text": [
      "0.7071067811865476\n",
      "10.0\n"
     ]
    }
   ],
   "source": [
    "import math #数学\n",
    "print(math.cos(math.pi /4))\n",
    "print(math.log(1024, 2))\n",
    "\n"
   ]
  },
  {
   "cell_type": "code",
   "execution_count": 35,
   "metadata": {},
   "outputs": [
    {
     "name": "stdout",
     "output_type": "stream",
     "text": [
      "b\n",
      "[27, 12, 52, 77, 69, 53, 6, 15, 32, 72]\n",
      "0.9683536666136335\n",
      "3\n",
      "20\n"
     ]
    }
   ],
   "source": [
    "import random #ランダム\n",
    "print(random.choice(['a', 'b', 'c']))\n",
    "\n",
    "print(random.sample(range(100), 10))\n",
    "\n",
    "print(random.random()) #random flort(0, 1)\n",
    "print(random.randint(0, 10))\n",
    "print(random.randrange(10, 101, 10))"
   ]
  },
  {
   "cell_type": "code",
   "execution_count": 1,
   "metadata": {},
   "outputs": [
    {
     "name": "stdout",
     "output_type": "stream",
     "text": [
      "2023-02-15\n",
      "21\n"
     ]
    }
   ],
   "source": [
    "from datetime import date #日付と時刻\n",
    "now = date.today()\n",
    "print(now)\n",
    "\n",
    "birthday = date(2001, 12, 5)\n",
    "age = now - birthday\n",
    "print(age.days // 365)"
   ]
  },
  {
   "cell_type": "code",
   "execution_count": 2,
   "metadata": {},
   "outputs": [
    {
     "name": "stdout",
     "output_type": "stream",
     "text": [
      "2023-02-15 11:20:43.399917\n",
      "2023-02-16 11:20:43.399917\n"
     ]
    }
   ],
   "source": [
    "from datetime import datetime, timedelta\n",
    "now = datetime.today()\n",
    "print(now)\n",
    "\n",
    "print(now + timedelta(days=1))"
   ]
  },
  {
   "cell_type": "code",
   "execution_count": 9,
   "metadata": {},
   "outputs": [
    {
     "name": "stdout",
     "output_type": "stream",
     "text": [
      "2023-02-15 02:28:03.133649+00:00\n",
      "2023-02-15 02:28:03.133808\n",
      "2023-02-15 11:28:03.134268+09:00\n"
     ]
    }
   ],
   "source": [
    "from datetime import datetime, timezone\n",
    "from zoneinfo import ZoneInfo\n",
    "print(datetime.now(tz=timezone.utc))\n",
    "print(datetime.utcnow())\n",
    "print(datetime.now(tz=ZoneInfo('Asia/Tokyo')))"
   ]
  },
  {
   "cell_type": "code",
   "execution_count": 15,
   "metadata": {},
   "outputs": [
    {
     "name": "stdout",
     "output_type": "stream",
     "text": [
      "2023年02月15日 11時33分58秒\n",
      "February 15 (Wed) 2023\n"
     ]
    }
   ],
   "source": [
    "now = datetime.now() #日付のフォーマット指定\n",
    "print(now.strftime('%Y年%m月%d日 %H時%M分%S秒'))\n",
    "print(now.strftime('%B %d (%a) %Y'))"
   ]
  },
  {
   "cell_type": "code",
   "execution_count": 24,
   "metadata": {},
   "outputs": [
    {
     "name": "stdout",
     "output_type": "stream",
     "text": [
      "水\n",
      "02 / 15 (w_list[now.weekday()])\n"
     ]
    }
   ],
   "source": [
    "w_list = ['月', '火', '水', '木', '金', '土', '日']\n",
    "print(w_list[now.weekday()])\n",
    "print(now.strftime('%m / %d'))"
   ]
  },
  {
   "cell_type": "code",
   "execution_count": 38,
   "metadata": {},
   "outputs": [
    {
     "name": "stdout",
     "output_type": "stream",
     "text": [
      "datetime: 2023-02-15T12:27:53.288927+09:00\n",
      "2023-02-15T12:27:53.288927+09:00\n",
      "\n",
      "2023-02-15 12:27:53.288927\n"
     ]
    }
   ],
   "source": [
    "#インターネットに接続\n",
    "from urllib.request import urlopen\n",
    "\n",
    "url = 'https://worldtimeapi.org/api/timezone/etc/GMT-9.txt'\n",
    "with urlopen(url) as response:\n",
    "    for line in response:\n",
    "        line = line.decode()\n",
    "        if line.startswith('datetime'):\n",
    "            print(line.rstrip())\n",
    "            print(line[10:])\n",
    "            now = datetime.strptime(line[10:-7], '%Y-%m-%dT%H:%M:%S.%f')\n",
    "            print(now)"
   ]
  },
  {
   "cell_type": "code",
   "execution_count": 43,
   "metadata": {},
   "outputs": [
    {
     "data": {
      "text/plain": [
       "(221, b'dc51.etius.jp')"
      ]
     },
     "execution_count": 43,
     "metadata": {},
     "output_type": "execute_result"
    }
   ],
   "source": [
    "#メールおくってみた\n",
    "import smtplib\n",
    "host = 'ホストアドレス'\n",
    "port = 'ポート番号'\n",
    "server = smtplib.SMTP(host, port)\n",
    "\n",
    "account = 'xxx'\n",
    "password = 'xxx'\n",
    "server.starttls()\n",
    "server.login(account, password)\n",
    "\n",
    "from_addr = 'xxx'\n",
    "to_addr = 'xxx'\n",
    "msg = f\"\"\"\n",
    "To: {to_addr}\n",
    "From: {from_addr}\n",
    "Subject: test mail\n",
    "helloooo\n",
    "\"\"\"\n",
    "\n",
    "server.sendmail(from_addr, to_addr, msg)\n",
    "server.quit()"
   ]
  },
  {
   "cell_type": "code",
   "execution_count": 2,
   "metadata": {},
   "outputs": [
    {
     "name": "stdout",
     "output_type": "stream",
     "text": [
      "b'which which has which whiches wrist whach'\n",
      "41\n"
     ]
    }
   ],
   "source": [
    "# データ圧縮、アーカイブ\n",
    "s = b'which which has which whiches wrist whach'\n",
    "print(s)\n",
    "print(len(s)) #バイト数"
   ]
  },
  {
   "cell_type": "code",
   "execution_count": 8,
   "metadata": {},
   "outputs": [
    {
     "name": "stdout",
     "output_type": "stream",
     "text": [
      "2854822866\n",
      "34\n",
      "b'which which has which whiches wrist whach'\n",
      "2854822866\n"
     ]
    }
   ],
   "source": [
    "#データを圧縮した\n",
    "import zlib\n",
    "print(zlib.crc32(s))\n",
    "t = zlib.compress(s)\n",
    "print(len(t))\n",
    "print(zlib.decompress(t)) #中身を戻したい、見たいとき\n",
    "print(zlib.crc32(zlib.decompress(t)))"
   ]
  },
  {
   "cell_type": "code",
   "execution_count": 14,
   "metadata": {},
   "outputs": [
    {
     "name": "stdout",
     "output_type": "stream",
     "text": [
      "49999995000000\n"
     ]
    }
   ],
   "source": [
    "def sum_range(n):\n",
    "    return sum(range(n))\n",
    "\n",
    "print(sum_range(10000000))"
   ]
  },
  {
   "cell_type": "code",
   "execution_count": 29,
   "metadata": {},
   "outputs": [
    {
     "name": "stdout",
     "output_type": "stream",
     "text": [
      "1.4526653840002837\n"
     ]
    }
   ],
   "source": [
    "#パフォーマンスの計測\n",
    "import timeit\n",
    "\n",
    "testcode = \"\"\"\n",
    "def sum_range(n):\n",
    "    return sum(range(n))\n",
    "sum_range(n)\n",
    "\"\"\"\n",
    "\n",
    "result = timeit.timeit(setup=\"n = 100000000\", stmt=testcode, number=1)\n",
    "print(result)"
   ]
  },
  {
   "attachments": {},
   "cell_type": "markdown",
   "metadata": {},
   "source": [
    "## doctest"
   ]
  },
  {
   "cell_type": "code",
   "execution_count": 34,
   "metadata": {},
   "outputs": [
    {
     "data": {
      "text/plain": [
       "TestResults(failed=0, attempted=2)"
      ]
     },
     "execution_count": 34,
     "metadata": {},
     "output_type": "execute_result"
    }
   ],
   "source": [
    "def average(values):\n",
    "    \"\"\"数字のリストのうち、平均値を返す\n",
    "    >>> print(average([20, 30, 70]))\n",
    "    40.0\n",
    "    >>> print(average([50, 60, 70, 80]))\n",
    "    65.0\n",
    "    \"\"\"\n",
    "    return sum(values) / len(values)\n",
    "\n",
    "import doctest\n",
    "doctest.testmod()"
   ]
  },
  {
   "cell_type": "code",
   "execution_count": 38,
   "metadata": {},
   "outputs": [
    {
     "data": {
      "text/plain": [
       "TestResults(failed=0, attempted=6)"
      ]
     },
     "execution_count": 38,
     "metadata": {},
     "output_type": "execute_result"
    }
   ],
   "source": [
    "def chiwawa_thermo(temp):\n",
    "    \"\"\"チワワ飼育用の室温計\n",
    "    >>> print(chiwawa_thermo(23.9))\n",
    "    寒い\n",
    "    >>> print(chiwawa_thermo(24.0))\n",
    "    快適\n",
    "    >>> print(chiwawa_thermo(25.9))\n",
    "    快適\n",
    "    >>> print(chiwawa_thermo(26.0))\n",
    "    暑い\n",
    "    \"\"\"\n",
    "    if temp < 24.0:\n",
    "        return \"寒い\"\n",
    "    elif temp < 26.0:\n",
    "        return \"快適\"\n",
    "    else:\n",
    "        return \"暑い\"\n",
    "\n",
    "import doctest\n",
    "doctest.testmod()\n",
    "\n"
   ]
  },
  {
   "attachments": {},
   "cell_type": "markdown",
   "metadata": {},
   "source": [
    "## unittest こっちが主流"
   ]
  },
  {
   "cell_type": "code",
   "execution_count": 41,
   "metadata": {},
   "outputs": [
    {
     "name": "stderr",
     "output_type": "stream",
     "text": [
      "..\n",
      "----------------------------------------------------------------------\n",
      "Ran 2 tests in 0.002s\n",
      "\n",
      "OK\n"
     ]
    }
   ],
   "source": [
    "import unittest\n",
    "\n",
    "class TestChiwawaThermo(unittest.TestCase):\n",
    "    def test_temp23_9_is_cold(self):\n",
    "        self.assertEqual(chiwawa_thermo(23.9), \"寒い\")\n",
    "    def test_temp24_0_is_confotable(self):\n",
    "        self.assertEqual(chiwawa_thermo(24.0), \"快適\")\n",
    "    def test_temp24_0_is_confotable(self):\n",
    "        self.assertEqual(chiwawa_thermo(25.9), \"快適\")\n",
    "    def test_temp24_0_is_confotable(self):\n",
    "        self.assertEqual(chiwawa_thermo(26.0), \"暑い\")\n",
    "\n",
    "if __name__ == \"__main__\":\n",
    "    unittest.main(argv=['first-arg-is-ignored'], exit=False)"
   ]
  },
  {
   "cell_type": "code",
   "execution_count": 46,
   "metadata": {},
   "outputs": [
    {
     "name": "stderr",
     "output_type": "stream",
     "text": [
      ".....\n",
      "----------------------------------------------------------------------\n",
      "Ran 5 tests in 0.006s\n",
      "\n",
      "OK\n"
     ]
    }
   ],
   "source": [
    "import unittest\n",
    "from datetime import datetime, time\n",
    "\n",
    "def first_beer_price(t, coupon=False):\n",
    "    if coupon:\n",
    "        return 100\n",
    "    elif t >= time(16, 0) and t < time(18, 0):\n",
    "        return 290\n",
    "    else:\n",
    "        return 490\n",
    "\n",
    "class TestFirstBeerPrice(unittest.TestCase):\n",
    "    def test_with_coupon(self):\n",
    "        self.assertEqual(first_beer_price(time(18, 0, 0), True), 100)\n",
    "    def test_without_coupon_in_happy_hour(self):\n",
    "        self.assertEqual(first_beer_price(time(17, 0, 0)), 290)\n",
    "    def test_without_coupon_outside_happy_hour(self):\n",
    "        self.assertEqual(first_beer_price(time(18, 0, 0)), 490)\n",
    "    \n",
    "if __name__ == \"__main__\":\n",
    "    unittest.main(argv=['first-arg-is-ignored'], exit=False)\n"
   ]
  }
 ],
 "metadata": {
  "kernelspec": {
   "display_name": ".venv",
   "language": "python",
   "name": "python3"
  },
  "language_info": {
   "codemirror_mode": {
    "name": "ipython",
    "version": 3
   },
   "file_extension": ".py",
   "mimetype": "text/x-python",
   "name": "python",
   "nbconvert_exporter": "python",
   "pygments_lexer": "ipython3",
   "version": "3.11.1"
  },
  "orig_nbformat": 4,
  "vscode": {
   "interpreter": {
    "hash": "ff82a638d3cd0e919dd0937da27591e27aa4e682df7daf8be57ecd65a6e0e6dd"
   }
  }
 },
 "nbformat": 4,
 "nbformat_minor": 2
}
