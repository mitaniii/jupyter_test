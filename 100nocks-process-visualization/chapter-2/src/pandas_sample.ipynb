{
 "cells": [
  {
   "cell_type": "code",
   "execution_count": 4,
   "metadata": {},
   "outputs": [],
   "source": [
    "import pandas as pd\n",
    "df = pd.read_excel('../data/1-2-2020.xlsx', skiprows=4, header=None)\n",
    "df = df.head(47)"
   ]
  },
  {
   "cell_type": "code",
   "execution_count": 5,
   "metadata": {},
   "outputs": [
    {
     "data": {
      "text/plain": [
       "pandas.core.frame.DataFrame"
      ]
     },
     "execution_count": 5,
     "metadata": {},
     "output_type": "execute_result"
    }
   ],
   "source": [
    "type(df)"
   ]
  },
  {
   "cell_type": "code",
   "execution_count": 8,
   "metadata": {},
   "outputs": [
    {
     "name": "stdout",
     "output_type": "stream",
     "text": [
      "47\n",
      "<class 'pandas.core.series.Series'>\n",
      "0      北海道\n",
      "1      青森県\n",
      "2      岩手県\n",
      "3      宮城県\n",
      "4      秋田県\n",
      "5      山形県\n",
      "6      福島県\n",
      "7      茨城県\n",
      "8      栃木県\n",
      "9      群馬県\n",
      "10     埼玉県\n",
      "11     千葉県\n",
      "12     東京都\n",
      "13    神奈川県\n",
      "14     新潟県\n",
      "15     富山県\n",
      "16     石川県\n",
      "17     福井県\n",
      "18     山梨県\n",
      "19     長野県\n",
      "20     岐阜県\n",
      "21     静岡県\n",
      "22     愛知県\n",
      "23     三重県\n",
      "24     滋賀県\n",
      "25     京都府\n",
      "26     大阪府\n",
      "27     兵庫県\n",
      "28     奈良県\n",
      "29    和歌山県\n",
      "30     鳥取県\n",
      "31     島根県\n",
      "32     岡山県\n",
      "33     広島県\n",
      "34     山口県\n",
      "35     徳島県\n",
      "36     香川県\n",
      "37     愛媛県\n",
      "38     高知県\n",
      "39     福岡県\n",
      "40     佐賀県\n",
      "41     長崎県\n",
      "42     熊本県\n",
      "43     大分県\n",
      "44     宮崎県\n",
      "45    鹿児島県\n",
      "46     沖縄県\n",
      "Name: 0, dtype: object\n"
     ]
    }
   ],
   "source": [
    "print(len(df))\n",
    "print(type(df[0]))\n",
    "print(df[0])"
   ]
  }
 ],
 "metadata": {
  "kernelspec": {
   "display_name": ".venv",
   "language": "python",
   "name": "python3"
  },
  "language_info": {
   "codemirror_mode": {
    "name": "ipython",
    "version": 3
   },
   "file_extension": ".py",
   "mimetype": "text/x-python",
   "name": "python",
   "nbconvert_exporter": "python",
   "pygments_lexer": "ipython3",
   "version": "3.11.1"
  },
  "orig_nbformat": 4,
  "vscode": {
   "interpreter": {
    "hash": "ff82a638d3cd0e919dd0937da27591e27aa4e682df7daf8be57ecd65a6e0e6dd"
   }
  }
 },
 "nbformat": 4,
 "nbformat_minor": 2
}
