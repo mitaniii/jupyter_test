{
 "cells": [
  {
   "attachments": {},
   "cell_type": "markdown",
   "metadata": {},
   "source": [
    "## サンプル問題　科目B"
   ]
  },
  {
   "cell_type": "code",
   "execution_count": 1,
   "metadata": {},
   "outputs": [
    {
     "name": "stdout",
     "output_type": "stream",
     "text": [
      "3 2\n"
     ]
    }
   ],
   "source": [
    "# 問1\n",
    "\n",
    "x, y, z = 1, 2, 3\n",
    "x = y\n",
    "y = z\n",
    "z = x\n",
    "\n",
    "print(y, z)"
   ]
  },
  {
   "cell_type": "code",
   "execution_count": 14,
   "metadata": {},
   "outputs": [
    {
     "name": "stdout",
     "output_type": "stream",
     "text": [
      "3で割り切れる\n",
      "5で割り切れる\n",
      "3と5で割り切れる\n",
      "3でも5でも割り切れない\n"
     ]
    }
   ],
   "source": [
    "# 問2\n",
    "\n",
    "def fizzbuzz(num):\n",
    "    result = \"\"\n",
    "    if num % 3 == 0:\n",
    "        result = \"3で割り切れる\"\n",
    "        if num % 5 == 0:\n",
    "            result = \"3と5で割り切れる\"\n",
    "    elif num % 5 == 0:\n",
    "        result = \"5で割り切れる\"\n",
    "        if num % 3 == 0:\n",
    "            result = \"3と5で割り切れる\"\n",
    "    else:\n",
    "        result = \"3でも5でも割り切れない\"\n",
    "    return result\n",
    "\n",
    "print(fizzbuzz(3)) #3で割り切れる\n",
    "print(fizzbuzz(5)) #5で割り切れる\n",
    "print(fizzbuzz(15)) #3と5で割り切れる\n",
    "print(fizzbuzz(4)) #3でも5でも割り切れない"
   ]
  },
  {
   "cell_type": "code",
   "execution_count": 17,
   "metadata": {},
   "outputs": [
    {
     "name": "stdout",
     "output_type": "stream",
     "text": [
      "[3, 5, 6, 12, 17, 21]\n"
     ]
    }
   ],
   "source": [
    "# 問3\n",
    "def makeNewArray(inArray):\n",
    "    out = []\n",
    "    # outの末尾にinArray[1]の値を追加する\n",
    "    out.append(inArray[0]) #inArrayの先頭をoutに追加\n",
    "    for i in range(1, len(inArray)):\n",
    "        # tail = out[len(out)]\n",
    "        tail = out[-1] #outの末尾を取得\n",
    "        out.append(tail + inArray[i])\n",
    "    return out\n",
    "\n",
    "print(makeNewArray([3, 2, 1, 6, 5, 4]))"
   ]
  },
  {
   "cell_type": "code",
   "execution_count": 5,
   "metadata": {},
   "outputs": [
    {
     "name": "stdout",
     "output_type": "stream",
     "text": [
      "6\n",
      "1\n",
      "12\n",
      "4\n"
     ]
    }
   ],
   "source": [
    "# 問4\n",
    "def gcd(num1, num2):\n",
    "    x, y = num1,num2\n",
    "    while x != y:\n",
    "        if x > y:\n",
    "            x = x - y\n",
    "        else:\n",
    "            y = y - x\n",
    "    else:\n",
    "        return x\n",
    "\n",
    "\n",
    "\n",
    "\n",
    "print(gcd(12, 18)) #6\n",
    "print(gcd(12, 17)) #1\n",
    "print(gcd(12, 12)) #12\n",
    "print(gcd(16, 12)) #4"
   ]
  },
  {
   "attachments": {},
   "cell_type": "markdown",
   "metadata": {},
   "source": [
    "### 再帰関数"
   ]
  },
  {
   "cell_type": "code",
   "execution_count": 1,
   "metadata": {},
   "outputs": [
    {
     "name": "stdout",
     "output_type": "stream",
     "text": [
      "15\n"
     ]
    }
   ],
   "source": [
    "# 問8 再帰関数\n",
    "def f(n):\n",
    "    # if n <= 1:\n",
    "    #     return 1\n",
    "    # else:\n",
    "    #     return n + f(n - 1)\n",
    "    return 1 if n <= 1 else n + f(n - 1) # True if条件 Falseの形で書く\n",
    "\n",
    "print(f(5))"
   ]
  },
  {
   "cell_type": "code",
   "execution_count": 2,
   "metadata": {},
   "outputs": [
    {
     "name": "stdout",
     "output_type": "stream",
     "text": [
      "720\n"
     ]
    }
   ],
   "source": [
    "# 問7 階乗を求める　科目B\n",
    "def factorial(n):\n",
    "    return 1 if n == 0 else n * factorial(n - 1)\n",
    "\n",
    "print(factorial(6))"
   ]
  },
  {
   "cell_type": "code",
   "execution_count": 5,
   "metadata": {},
   "outputs": [
    {
     "name": "stdout",
     "output_type": "stream",
     "text": [
      "8, 4, 9, 2, 10, 5, 11, 1, 12, 6, 13, 3, 14, 7, "
     ]
    }
   ],
   "source": [
    "#問9 二分木　再帰関数\n",
    "tree = [[],[2,3],[4,5],[6,7],[8,9],[10,11],[12,13],[14],[],[],[],[],[],[],[]]\n",
    "\n",
    "def order(n):\n",
    "    if len(tree[n]) == 2:\n",
    "        order(tree[n][0]) #左の要素を探索\n",
    "        print(n, end=', ')\n",
    "        order(tree[n][1]) #右の要素を探索\n",
    "    elif len(tree[n]) == 1:\n",
    "        order(tree[n][0]) #左の要素を探索\n",
    "        print(n, end=', ')\n",
    "    else:\n",
    "        print(n, end=', ')\n",
    "\n",
    "order(1)"
   ]
  },
  {
   "attachments": {},
   "cell_type": "markdown",
   "metadata": {},
   "source": [
    "### 問6 科目B"
   ]
  },
  {
   "cell_type": "code",
   "execution_count": 6,
   "metadata": {},
   "outputs": [
    {
     "name": "stdout",
     "output_type": "stream",
     "text": [
      "0b11010010\n"
     ]
    }
   ],
   "source": [
    "def rev(byte):\n",
    "    rbyte = byte\n",
    "    r = 0\n",
    "    for i in range(8):\n",
    "        r = (r << 1) | (rbyte & 1)\n",
    "        rbyte = rbyte >> 1\n",
    "    return r\n",
    "\n",
    "\n",
    "ret = rev(0b01001011)\n",
    "print(bin(ret))"
   ]
  }
 ],
 "metadata": {
  "kernelspec": {
   "display_name": ".venv",
   "language": "python",
   "name": "python3"
  },
  "language_info": {
   "codemirror_mode": {
    "name": "ipython",
    "version": 3
   },
   "file_extension": ".py",
   "mimetype": "text/x-python",
   "name": "python",
   "nbconvert_exporter": "python",
   "pygments_lexer": "ipython3",
   "version": "3.11.1"
  },
  "orig_nbformat": 4,
  "vscode": {
   "interpreter": {
    "hash": "ff82a638d3cd0e919dd0937da27591e27aa4e682df7daf8be57ecd65a6e0e6dd"
   }
  }
 },
 "nbformat": 4,
 "nbformat_minor": 2
}
