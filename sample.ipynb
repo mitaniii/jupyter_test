{
 "cells": [
  {
   "attachments": {},
   "cell_type": "markdown",
   "metadata": {},
   "source": [
    "## サンプル問題　科目B"
   ]
  },
  {
   "cell_type": "code",
   "execution_count": 1,
   "metadata": {},
   "outputs": [
    {
     "name": "stdout",
     "output_type": "stream",
     "text": [
      "3 2\n"
     ]
    }
   ],
   "source": [
    "# 問1\n",
    "\n",
    "x, y, z = 1, 2, 3\n",
    "x = y\n",
    "y = z\n",
    "z = x\n",
    "\n",
    "print(y, z)"
   ]
  },
  {
   "cell_type": "code",
   "execution_count": 14,
   "metadata": {},
   "outputs": [
    {
     "name": "stdout",
     "output_type": "stream",
     "text": [
      "3で割り切れる\n",
      "5で割り切れる\n",
      "3と5で割り切れる\n",
      "3でも5でも割り切れない\n"
     ]
    }
   ],
   "source": [
    "# 問2\n",
    "\n",
    "def fizzbuzz(num):\n",
    "    result = \"\"\n",
    "    if num % 3 == 0:\n",
    "        result = \"3で割り切れる\"\n",
    "        if num % 5 == 0:\n",
    "            result = \"3と5で割り切れる\"\n",
    "    elif num % 5 == 0:\n",
    "        result = \"5で割り切れる\"\n",
    "        if num % 3 == 0:\n",
    "            result = \"3と5で割り切れる\"\n",
    "    else:\n",
    "        result = \"3でも5でも割り切れない\"\n",
    "    return result\n",
    "\n",
    "print(fizzbuzz(3)) #3で割り切れる\n",
    "print(fizzbuzz(5)) #5で割り切れる\n",
    "print(fizzbuzz(15)) #3と5で割り切れる\n",
    "print(fizzbuzz(4)) #3でも5でも割り切れない"
   ]
  },
  {
   "cell_type": "code",
   "execution_count": 17,
   "metadata": {},
   "outputs": [
    {
     "name": "stdout",
     "output_type": "stream",
     "text": [
      "[3, 5, 6, 12, 17, 21]\n"
     ]
    }
   ],
   "source": [
    "# 問3\n",
    "def makeNewArray(inArray):\n",
    "    out = []\n",
    "    # outの末尾にinArray[1]の値を追加する\n",
    "    out.append(inArray[0]) #inArrayの先頭をoutに追加\n",
    "    for i in range(1, len(inArray)):\n",
    "        # tail = out[len(out)]\n",
    "        tail = out[-1] #outの末尾を取得\n",
    "        out.append(tail + inArray[i])\n",
    "    return out\n",
    "\n",
    "print(makeNewArray([3, 2, 1, 6, 5, 4]))"
   ]
  },
  {
   "cell_type": "code",
   "execution_count": 21,
   "metadata": {},
   "outputs": [
    {
     "name": "stdout",
     "output_type": "stream",
     "text": [
      "6\n",
      "1\n",
      "12\n",
      "4\n"
     ]
    }
   ],
   "source": [
    "# 問4\n",
    "def gcd(num1, num2):\n",
    "    x, y = num1,num2\n",
    "    while x != y:\n",
    "        if x > y:\n",
    "            x = x - y\n",
    "        else:\n",
    "            y = y - x\n",
    "    else:\n",
    "        return x\n",
    "\n",
    "\n",
    "\n",
    "\n",
    "print(gcd(12, 18)) #6\n",
    "print(gcd(12, 17)) #1\n",
    "print(gcd(12, 12)) #12\n",
    "print(gcd(16, 12)) #4"
   ]
  }
 ],
 "metadata": {
  "kernelspec": {
   "display_name": ".venv",
   "language": "python",
   "name": "python3"
  },
  "language_info": {
   "codemirror_mode": {
    "name": "ipython",
    "version": 3
   },
   "file_extension": ".py",
   "mimetype": "text/x-python",
   "name": "python",
   "nbconvert_exporter": "python",
   "pygments_lexer": "ipython3",
   "version": "3.11.1"
  },
  "orig_nbformat": 4,
  "vscode": {
   "interpreter": {
    "hash": "ff82a638d3cd0e919dd0937da27591e27aa4e682df7daf8be57ecd65a6e0e6dd"
   }
  }
 },
 "nbformat": 4,
 "nbformat_minor": 2
}
