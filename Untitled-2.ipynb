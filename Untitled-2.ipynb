{
 "cells": [
  {
   "cell_type": "code",
   "execution_count": 31,
   "metadata": {},
   "outputs": [
    {
     "name": "stdout",
     "output_type": "stream",
     "text": [
      "[0, 1, 1, 2, 3, 5, 8, 13, 21, 34, 55, 89, 144, 233, 377, 610, 987, 1597]\n"
     ]
    }
   ],
   "source": [
    "#フィボナッチ数列\n",
    "def fib(n):\n",
    "    result = []\n",
    "    a, b = 0, 1\n",
    "    while a < n:\n",
    "        # print(a, end=\" \")\n",
    "        result.append(a)\n",
    "        a, b = b, a + b\n",
    "    # print()\n",
    "    return result #戻り値が必要な場合につける\n",
    "\n",
    "x = fib(2000) #ファンクション名を指定して呼び出し\n",
    "print(x)\n",
    "\n",
    "# a, b = 0, 1\n",
    "# s = []\n",
    "# while a < 100: #whileは\"とある条件を満たす間の時使える\"\n",
    "#     s.append(a)\n",
    "#     a, b = b, a + b\n",
    "# print(s)"
   ]
  },
  {
   "cell_type": "code",
   "execution_count": 6,
   "metadata": {},
   "outputs": [
    {
     "name": "stdout",
     "output_type": "stream",
     "text": [
      "More\n"
     ]
    }
   ],
   "source": [
    "#if文\n",
    "x = int(input(\"please enter an integer: \"))\n",
    "\n",
    "if x < 0:\n",
    "    x = 0\n",
    "    print(\"Negative changed to zero\")\n",
    "elif x == 0:\n",
    "    print(\"Zero\")\n",
    "elif x == 1:\n",
    "    print(\"Single\")\n",
    "else: #それ以外は、でelse\n",
    "    print(\"More\")"
   ]
  },
  {
   "cell_type": "code",
   "execution_count": 7,
   "metadata": {},
   "outputs": [
    {
     "name": "stdout",
     "output_type": "stream",
     "text": [
      "cat 3\n",
      "window 6\n",
      "defenstrate 11\n"
     ]
    }
   ],
   "source": [
    "#for文\n",
    "words = ['cat', 'window', 'defenstrate']\n",
    "for w in words: #forは繰り返し可能なものに使う、リストや配列\n",
    "    print(w, len(w))"
   ]
  },
  {
   "cell_type": "code",
   "execution_count": 11,
   "metadata": {},
   "outputs": [
    {
     "name": "stdout",
     "output_type": "stream",
     "text": [
      "5\n",
      "6\n",
      "7\n",
      "8\n",
      "9\n"
     ]
    }
   ],
   "source": [
    "#range()\n",
    "for i in range(3): #(end)\n",
    "    print(i)\n",
    "\n",
    "for i in range(5, 10): #(start, end)\n",
    "    print(i)\n",
    "\n",
    "for i in range(5, 10): #(start, end, step)\n",
    "    print(i)"
   ]
  },
  {
   "cell_type": "code",
   "execution_count": 19,
   "metadata": {},
   "outputs": [
    {
     "name": "stdout",
     "output_type": "stream",
     "text": [
      "2 is a prime number\n",
      "3 is a prime number\n",
      "4 equals 2 * 2\n",
      "5 is a prime number\n",
      "6 equals 2 * 3\n",
      "7 is a prime number\n",
      "8 equals 2 * 4\n",
      "9 equals 3 * 3\n"
     ]
    }
   ],
   "source": [
    "#break\n",
    "for n in range(2, 10):\n",
    "    for x in range(2, n):\n",
    "        if n % x == 0:\n",
    "            print(n, 'equals', x, '*', n//x)\n",
    "            break #一番近いforを抜ける\n",
    "    else:\n",
    "        print(n, 'is a prime number')"
   ]
  },
  {
   "cell_type": "code",
   "execution_count": 20,
   "metadata": {},
   "outputs": [
    {
     "name": "stdout",
     "output_type": "stream",
     "text": [
      "Found an even number 2\n",
      "Found an odd number 3\n",
      "Found an even number 4\n",
      "Found an odd number 5\n",
      "Found an even number 6\n",
      "Found an odd number 7\n",
      "Found an even number 8\n",
      "Found an odd number 9\n"
     ]
    }
   ],
   "source": [
    "#continue\n",
    "for num in range(2, 10):\n",
    "    if num % 2 == 0:\n",
    "        print(\"Found an even number\", num)\n",
    "        continue\n",
    "    print(\"Found an odd number\", num)"
   ]
  },
  {
   "cell_type": "code",
   "execution_count": 22,
   "metadata": {},
   "outputs": [],
   "source": [
    "#pass \n",
    "x = 1\n",
    "if x > 0:\n",
    "    pass #何もしない、したくない時、中身がまだ決まっていない時に使う\n",
    "else:\n",
    "    print(\"False\")"
   ]
  },
  {
   "attachments": {},
   "cell_type": "markdown",
   "metadata": {},
   "source": [
    "## 基本情報テスト問題"
   ]
  },
  {
   "cell_type": "code",
   "execution_count": 8,
   "metadata": {},
   "outputs": [
    {
     "name": "stdout",
     "output_type": "stream",
     "text": [
      "[0, 0, 1, 0, 0, 0, 0, 1]\n"
     ]
    }
   ],
   "source": [
    "#サンプル問題 問2 \n",
    "def to_binary(j):\n",
    "    \"\"\"10進数から2進数への変換\"\"\"\n",
    "    NISHIN = [None] * 9\n",
    "    for k in range(1,9):\n",
    "        NISHIN[k] = j % 2\n",
    "        j //= 2\n",
    "    \n",
    "    result = NISHIN[1:]\n",
    "    result.reverse()\n",
    "    return result\n",
    "\n",
    "print(to_binary(33))\n"
   ]
  },
  {
   "attachments": {},
   "cell_type": "markdown",
   "metadata": {},
   "source": [
    "## グローバル変数とローカル変数"
   ]
  },
  {
   "cell_type": "code",
   "execution_count": 13,
   "metadata": {},
   "outputs": [
    {
     "name": "stdout",
     "output_type": "stream",
     "text": [
      "2\n",
      "2\n"
     ]
    }
   ],
   "source": [
    "x = 1\n",
    "\n",
    "def foo():\n",
    "    # x = 2\n",
    "    global x # グローバル変数を使うと宣言\n",
    "    x += 1 # 宣言をすれば、グローバル変数を変更できる\n",
    "    print(x) # 2 関数の中のグローバル変数が表示される\n",
    "\n",
    "foo()\n",
    "print(x) # 1 関数の外のグローバル変数(変更語)"
   ]
  },
  {
   "attachments": {},
   "cell_type": "markdown",
   "metadata": {},
   "source": [
    "## 関数への値渡しと参照渡し"
   ]
  },
  {
   "cell_type": "code",
   "execution_count": 16,
   "metadata": {},
   "outputs": [
    {
     "name": "stdout",
     "output_type": "stream",
     "text": [
      "20\n",
      "10\n"
     ]
    }
   ],
   "source": [
    "def f(n):\n",
    "    n *= 2\n",
    "    print(n)\n",
    "\n",
    "\n",
    "x = 10\n",
    "f(x) # 関数の中で処理されたx(値渡し)\n",
    "print(x) #そのまんまx\n"
   ]
  },
  {
   "cell_type": "code",
   "execution_count": 17,
   "metadata": {},
   "outputs": [
    {
     "name": "stdout",
     "output_type": "stream",
     "text": [
      "[1, 2, 3, 1, 2, 3]\n",
      "[1, 2, 3, 1, 2, 3]\n"
     ]
    }
   ],
   "source": [
    "def f(n):\n",
    "    n *= 2\n",
    "    print(n)\n",
    "\n",
    "\n",
    "x = [1,2,3]\n",
    "f(x) # 関数の中で処理されたx(参照渡し)\n",
    "print(x) #ミュータブルなのでグローバル変数が書き換わる"
   ]
  },
  {
   "attachments": {},
   "cell_type": "markdown",
   "metadata": {},
   "source": [
    "## リターン"
   ]
  },
  {
   "cell_type": "code",
   "execution_count": 27,
   "metadata": {},
   "outputs": [
    {
     "name": "stdout",
     "output_type": "stream",
     "text": [
      "(15, 5, 50, 2.0)\n",
      "<class 'tuple'>\n",
      "15 5 50 2.0\n",
      "50\n"
     ]
    }
   ],
   "source": [
    "def f(a, b):\n",
    "    return a + b, a - b, a * b, a / b\n",
    "\n",
    "ret = f(10, 5)\n",
    "print(ret)\n",
    "print(type(ret))\n",
    "\n",
    "plus, minus, multi, divide = f(10,5) #4ついっきに変数宣言\n",
    "print(plus, minus, multi, divide)\n",
    "\n",
    "# a, b = f(10, 5)\n",
    "# print(a, b) #returnの数が違う\n",
    "\n",
    "_, _, a, _ = f(10,5) #不要なreturnはアンダースコアで省ける\n",
    "print(a)\n",
    "\n"
   ]
  },
  {
   "attachments": {},
   "cell_type": "markdown",
   "metadata": {},
   "source": [
    "## 引数"
   ]
  },
  {
   "cell_type": "code",
   "execution_count": 33,
   "metadata": {},
   "outputs": [
    {
     "name": "stdout",
     "output_type": "stream",
     "text": [
      "1 0 -1\n",
      "2 3 -1\n",
      "4 5 6\n",
      "10 0 20\n"
     ]
    }
   ],
   "source": [
    "def f(a, b=0, c=-1):\n",
    "    print(a, b, c)\n",
    "\n",
    "f(1)\n",
    "f(2, 3)\n",
    "f(4, 5, 6)\n",
    "f(10, c=20) #キーワード引数(bを省略、cを指定)\n",
    "# f(c=20, 11) 位置引数を先に書かなければならない"
   ]
  },
  {
   "cell_type": "code",
   "execution_count": 37,
   "metadata": {},
   "outputs": [
    {
     "name": "stdout",
     "output_type": "stream",
     "text": [
      "(1,) <class 'tuple'> 1\n",
      "(1, 2, 3) <class 'tuple'> 3\n",
      "() <class 'tuple'> 0\n"
     ]
    }
   ],
   "source": [
    "def f(*args): #仮引数にアスタリスクがある時、\n",
    "    print(args, type(args), len(args))\n",
    "    #すべての引数をタプルの中身として受け取る\n",
    "\n",
    "\n",
    "f(1)\n",
    "f(1, 2, 3)\n",
    "f()"
   ]
  },
  {
   "cell_type": "code",
   "execution_count": 41,
   "metadata": {},
   "outputs": [
    {
     "name": "stdout",
     "output_type": "stream",
     "text": [
      "1 ()\n",
      "1 (2, 3)\n"
     ]
    }
   ],
   "source": [
    "def f(a, *args): #位置引数以外アスタリスクが吸収する\n",
    "    print(a, args)\n",
    "\n",
    "f(1)\n",
    "f(1, 2, 3)"
   ]
  },
  {
   "cell_type": "code",
   "execution_count": 49,
   "metadata": {},
   "outputs": [
    {
     "name": "stdout",
     "output_type": "stream",
     "text": [
      "10\n",
      "1\n",
      "{'value2': 2, 'value': 3} <class 'dict'>\n"
     ]
    }
   ],
   "source": [
    "def f(a, value1=0, **kwargs): #アスタリスク2個で、\n",
    "    print(a)\n",
    "    print(value1)\n",
    "    print(kwargs, type(kwargs))\n",
    "    #可変長のキーワード引数、辞書型になる\n",
    "f(value1=1, value2=2, value=3, a=10)"
   ]
  }
 ],
 "metadata": {
  "kernelspec": {
   "display_name": ".venv",
   "language": "python",
   "name": "python3"
  },
  "language_info": {
   "codemirror_mode": {
    "name": "ipython",
    "version": 3
   },
   "file_extension": ".py",
   "mimetype": "text/x-python",
   "name": "python",
   "nbconvert_exporter": "python",
   "pygments_lexer": "ipython3",
   "version": "3.11.1"
  },
  "orig_nbformat": 4,
  "vscode": {
   "interpreter": {
    "hash": "ff82a638d3cd0e919dd0937da27591e27aa4e682df7daf8be57ecd65a6e0e6dd"
   }
  }
 },
 "nbformat": 4,
 "nbformat_minor": 2
}
